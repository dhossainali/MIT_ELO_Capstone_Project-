{
 "cells": [
  {
   "cell_type": "markdown",
   "id": "c38e4ff8",
   "metadata": {},
   "source": [
    "## Objective\n",
    "We use **pandas** library to for our data cleaning, manipulation and analysis in this project. \n",
    "We have three kind of datasets 1) GDP growth of most of the countries of the world in timeseries, 2) CO2 percapita emmision of the countries of the world in timeseries 3) Gross domestic expenditure on research and development (R&D) of some EU countries.\n",
    "We aim to find if there is any correlation between GDP growth and CO2 percapita emmission. And If there is any correlation between expenditure on R&D and GDP grwoth.\n",
    "At first we want to order data in such a way that we can calculate the correlation between GDP growth and CO2 percapita emmision. Then prepare data  to calculate the correlation between GDP growth and research and development (R&D). "
   ]
  },
  {
   "cell_type": "markdown",
   "id": "ab212fbe",
   "metadata": {},
   "source": [
    "### Data and Data analysis\n",
    "We import pandas as pd and and read our data which is in the form of CSV. And store our data as Pandas DataFrame with the names df for CO2 percapita emmission and Df with capital 'D' for GDP growth. We prefer to comment most of the code inside code cells.   "
   ]
  },
  {
   "cell_type": "code",
   "execution_count": 58,
   "id": "340784e7",
   "metadata": {},
   "outputs": [],
   "source": [
    "import pandas as pd\n",
    "import matplotlib as mplt\n",
    "from sklearn.linear_model import LinearRegression\n",
    "from sklearn.metrics import r2_score\n",
    "\n",
    "df=pd.read_csv('co2_per_capita_emission.csv')\n",
    "Df=pd.read_csv('GDP of each country.csv')"
   ]
  },
  {
   "cell_type": "code",
   "execution_count": 2,
   "id": "ed2ad460",
   "metadata": {
    "scrolled": true
   },
   "outputs": [
    {
     "data": {
      "text/plain": [
       "Index(['country', '1800', '1801', '1802', '1803', '1804', '1805', '1806',\n",
       "       '1807', '1808',\n",
       "       ...\n",
       "       '2013', '2014', '2015', '2016', '2017', '2018', '2019', '2020', '2021',\n",
       "       '2022'],\n",
       "      dtype='object', length=224)"
      ]
     },
     "execution_count": 2,
     "metadata": {},
     "output_type": "execute_result"
    }
   ],
   "source": [
    "# Checking what are the columns name (variables name)\n",
    "\n",
    "df.columns"
   ]
  },
  {
   "cell_type": "code",
   "execution_count": 3,
   "id": "46d2ca89",
   "metadata": {
    "scrolled": false
   },
   "outputs": [
    {
     "data": {
      "text/html": [
       "<div>\n",
       "<style scoped>\n",
       "    .dataframe tbody tr th:only-of-type {\n",
       "        vertical-align: middle;\n",
       "    }\n",
       "\n",
       "    .dataframe tbody tr th {\n",
       "        vertical-align: top;\n",
       "    }\n",
       "\n",
       "    .dataframe thead th {\n",
       "        text-align: right;\n",
       "    }\n",
       "</style>\n",
       "<table border=\"1\" class=\"dataframe\">\n",
       "  <thead>\n",
       "    <tr style=\"text-align: right;\">\n",
       "      <th></th>\n",
       "      <th>country</th>\n",
       "      <th>1800</th>\n",
       "      <th>1801</th>\n",
       "      <th>1802</th>\n",
       "      <th>1803</th>\n",
       "      <th>1804</th>\n",
       "      <th>1805</th>\n",
       "      <th>1806</th>\n",
       "      <th>1807</th>\n",
       "      <th>1808</th>\n",
       "      <th>...</th>\n",
       "      <th>2013</th>\n",
       "      <th>2014</th>\n",
       "      <th>2015</th>\n",
       "      <th>2016</th>\n",
       "      <th>2017</th>\n",
       "      <th>2018</th>\n",
       "      <th>2019</th>\n",
       "      <th>2020</th>\n",
       "      <th>2021</th>\n",
       "      <th>2022</th>\n",
       "    </tr>\n",
       "  </thead>\n",
       "  <tbody>\n",
       "    <tr>\n",
       "      <th>0</th>\n",
       "      <td>Afghanistan</td>\n",
       "      <td>0.001</td>\n",
       "      <td>0.001</td>\n",
       "      <td>0.001</td>\n",
       "      <td>0.001</td>\n",
       "      <td>0.001</td>\n",
       "      <td>0.001</td>\n",
       "      <td>0.001</td>\n",
       "      <td>0.001</td>\n",
       "      <td>0.001</td>\n",
       "      <td>...</td>\n",
       "      <td>0.28</td>\n",
       "      <td>0.253</td>\n",
       "      <td>0.262</td>\n",
       "      <td>0.245</td>\n",
       "      <td>0.247</td>\n",
       "      <td>0.254</td>\n",
       "      <td>0.261</td>\n",
       "      <td>0.261</td>\n",
       "      <td>0.279</td>\n",
       "      <td>0.284</td>\n",
       "    </tr>\n",
       "    <tr>\n",
       "      <th>1</th>\n",
       "      <td>Angola</td>\n",
       "      <td>0.009</td>\n",
       "      <td>0.009</td>\n",
       "      <td>0.009</td>\n",
       "      <td>0.009</td>\n",
       "      <td>0.009</td>\n",
       "      <td>0.009</td>\n",
       "      <td>0.010</td>\n",
       "      <td>0.010</td>\n",
       "      <td>0.010</td>\n",
       "      <td>...</td>\n",
       "      <td>1.28</td>\n",
       "      <td>1.640</td>\n",
       "      <td>1.220</td>\n",
       "      <td>1.180</td>\n",
       "      <td>1.150</td>\n",
       "      <td>1.120</td>\n",
       "      <td>1.150</td>\n",
       "      <td>1.120</td>\n",
       "      <td>1.200</td>\n",
       "      <td>1.230</td>\n",
       "    </tr>\n",
       "    <tr>\n",
       "      <th>2</th>\n",
       "      <td>Albania</td>\n",
       "      <td>0.001</td>\n",
       "      <td>0.001</td>\n",
       "      <td>0.001</td>\n",
       "      <td>0.001</td>\n",
       "      <td>0.001</td>\n",
       "      <td>0.001</td>\n",
       "      <td>0.001</td>\n",
       "      <td>0.001</td>\n",
       "      <td>0.001</td>\n",
       "      <td>...</td>\n",
       "      <td>2.27</td>\n",
       "      <td>2.250</td>\n",
       "      <td>2.040</td>\n",
       "      <td>2.010</td>\n",
       "      <td>2.130</td>\n",
       "      <td>2.080</td>\n",
       "      <td>2.050</td>\n",
       "      <td>2.000</td>\n",
       "      <td>2.120</td>\n",
       "      <td>2.100</td>\n",
       "    </tr>\n",
       "    <tr>\n",
       "      <th>3</th>\n",
       "      <td>Andorra</td>\n",
       "      <td>0.333</td>\n",
       "      <td>0.335</td>\n",
       "      <td>0.337</td>\n",
       "      <td>0.340</td>\n",
       "      <td>0.342</td>\n",
       "      <td>0.345</td>\n",
       "      <td>0.347</td>\n",
       "      <td>0.350</td>\n",
       "      <td>0.352</td>\n",
       "      <td>...</td>\n",
       "      <td>5.9</td>\n",
       "      <td>5.830</td>\n",
       "      <td>5.970</td>\n",
       "      <td>6.070</td>\n",
       "      <td>6.270</td>\n",
       "      <td>6.120</td>\n",
       "      <td>6.060</td>\n",
       "      <td>5.630</td>\n",
       "      <td>5.970</td>\n",
       "      <td>5.910</td>\n",
       "    </tr>\n",
       "    <tr>\n",
       "      <th>4</th>\n",
       "      <td>UAE</td>\n",
       "      <td>0.063</td>\n",
       "      <td>0.063</td>\n",
       "      <td>0.064</td>\n",
       "      <td>0.064</td>\n",
       "      <td>0.064</td>\n",
       "      <td>0.064</td>\n",
       "      <td>0.065</td>\n",
       "      <td>0.065</td>\n",
       "      <td>0.065</td>\n",
       "      <td>...</td>\n",
       "      <td>27</td>\n",
       "      <td>26.800</td>\n",
       "      <td>27.000</td>\n",
       "      <td>26.700</td>\n",
       "      <td>23.900</td>\n",
       "      <td>23.500</td>\n",
       "      <td>21.200</td>\n",
       "      <td>19.700</td>\n",
       "      <td>20.700</td>\n",
       "      <td>21.100</td>\n",
       "    </tr>\n",
       "  </tbody>\n",
       "</table>\n",
       "<p>5 rows × 224 columns</p>\n",
       "</div>"
      ],
      "text/plain": [
       "       country   1800   1801   1802   1803   1804   1805   1806   1807   1808  \\\n",
       "0  Afghanistan  0.001  0.001  0.001  0.001  0.001  0.001  0.001  0.001  0.001   \n",
       "1       Angola  0.009  0.009  0.009  0.009  0.009  0.009  0.010  0.010  0.010   \n",
       "2      Albania  0.001  0.001  0.001  0.001  0.001  0.001  0.001  0.001  0.001   \n",
       "3      Andorra  0.333  0.335  0.337  0.340  0.342  0.345  0.347  0.350  0.352   \n",
       "4          UAE  0.063  0.063  0.064  0.064  0.064  0.064  0.065  0.065  0.065   \n",
       "\n",
       "   ...  2013    2014    2015    2016    2017    2018    2019    2020    2021  \\\n",
       "0  ...  0.28   0.253   0.262   0.245   0.247   0.254   0.261   0.261   0.279   \n",
       "1  ...  1.28   1.640   1.220   1.180   1.150   1.120   1.150   1.120   1.200   \n",
       "2  ...  2.27   2.250   2.040   2.010   2.130   2.080   2.050   2.000   2.120   \n",
       "3  ...   5.9   5.830   5.970   6.070   6.270   6.120   6.060   5.630   5.970   \n",
       "4  ...    27  26.800  27.000  26.700  23.900  23.500  21.200  19.700  20.700   \n",
       "\n",
       "     2022  \n",
       "0   0.284  \n",
       "1   1.230  \n",
       "2   2.100  \n",
       "3   5.910  \n",
       "4  21.100  \n",
       "\n",
       "[5 rows x 224 columns]"
      ]
     },
     "execution_count": 3,
     "metadata": {},
     "output_type": "execute_result"
    }
   ],
   "source": [
    "# Checking how the data looks like \n",
    "\n",
    "df.head()"
   ]
  },
  {
   "cell_type": "code",
   "execution_count": 4,
   "id": "cd74b17f",
   "metadata": {
    "scrolled": true
   },
   "outputs": [
    {
     "data": {
      "text/html": [
       "<div>\n",
       "<style scoped>\n",
       "    .dataframe tbody tr th:only-of-type {\n",
       "        vertical-align: middle;\n",
       "    }\n",
       "\n",
       "    .dataframe tbody tr th {\n",
       "        vertical-align: top;\n",
       "    }\n",
       "\n",
       "    .dataframe thead th {\n",
       "        text-align: right;\n",
       "    }\n",
       "</style>\n",
       "<table border=\"1\" class=\"dataframe\">\n",
       "  <thead>\n",
       "    <tr style=\"text-align: right;\">\n",
       "      <th></th>\n",
       "      <th>Country Name</th>\n",
       "      <th>Country Code</th>\n",
       "      <th>Year</th>\n",
       "      <th>Value</th>\n",
       "    </tr>\n",
       "  </thead>\n",
       "  <tbody>\n",
       "    <tr>\n",
       "      <th>0</th>\n",
       "      <td>Afghanistan</td>\n",
       "      <td>AFG</td>\n",
       "      <td>1960</td>\n",
       "      <td>5.377778e+08</td>\n",
       "    </tr>\n",
       "    <tr>\n",
       "      <th>1</th>\n",
       "      <td>Afghanistan</td>\n",
       "      <td>AFG</td>\n",
       "      <td>1961</td>\n",
       "      <td>5.488889e+08</td>\n",
       "    </tr>\n",
       "    <tr>\n",
       "      <th>2</th>\n",
       "      <td>Afghanistan</td>\n",
       "      <td>AFG</td>\n",
       "      <td>1962</td>\n",
       "      <td>5.466667e+08</td>\n",
       "    </tr>\n",
       "    <tr>\n",
       "      <th>3</th>\n",
       "      <td>Afghanistan</td>\n",
       "      <td>AFG</td>\n",
       "      <td>1963</td>\n",
       "      <td>7.511112e+08</td>\n",
       "    </tr>\n",
       "    <tr>\n",
       "      <th>4</th>\n",
       "      <td>Afghanistan</td>\n",
       "      <td>AFG</td>\n",
       "      <td>1964</td>\n",
       "      <td>8.000000e+08</td>\n",
       "    </tr>\n",
       "  </tbody>\n",
       "</table>\n",
       "</div>"
      ],
      "text/plain": [
       "  Country Name Country Code  Year         Value\n",
       "0  Afghanistan          AFG  1960  5.377778e+08\n",
       "1  Afghanistan          AFG  1961  5.488889e+08\n",
       "2  Afghanistan          AFG  1962  5.466667e+08\n",
       "3  Afghanistan          AFG  1963  7.511112e+08\n",
       "4  Afghanistan          AFG  1964  8.000000e+08"
      ]
     },
     "execution_count": 4,
     "metadata": {},
     "output_type": "execute_result"
    }
   ],
   "source": [
    "# Checking doing the check for the GDP growt data\n",
    "\n",
    "Df.head()"
   ]
  },
  {
   "cell_type": "code",
   "execution_count": 5,
   "id": "7231b739",
   "metadata": {},
   "outputs": [],
   "source": [
    "Df=Df.drop(columns='Country Code')"
   ]
  },
  {
   "cell_type": "markdown",
   "id": "832a8909",
   "metadata": {},
   "source": [
    "In coding it is a good practice to use a short name without any space in between. So for this purpose we change the name of the columns."
   ]
  },
  {
   "cell_type": "code",
   "execution_count": 6,
   "id": "bae9692b",
   "metadata": {},
   "outputs": [],
   "source": [
    "Df=Df.rename(columns={'Country Name': 'country', 'Value':'gdpValue', 'Year':'year' })"
   ]
  },
  {
   "cell_type": "code",
   "execution_count": 7,
   "id": "b98c1a3a",
   "metadata": {},
   "outputs": [
    {
     "data": {
      "text/html": [
       "<div>\n",
       "<style scoped>\n",
       "    .dataframe tbody tr th:only-of-type {\n",
       "        vertical-align: middle;\n",
       "    }\n",
       "\n",
       "    .dataframe tbody tr th {\n",
       "        vertical-align: top;\n",
       "    }\n",
       "\n",
       "    .dataframe thead th {\n",
       "        text-align: right;\n",
       "    }\n",
       "</style>\n",
       "<table border=\"1\" class=\"dataframe\">\n",
       "  <thead>\n",
       "    <tr style=\"text-align: right;\">\n",
       "      <th></th>\n",
       "      <th>country</th>\n",
       "      <th>year</th>\n",
       "      <th>gdpValue</th>\n",
       "    </tr>\n",
       "  </thead>\n",
       "  <tbody>\n",
       "    <tr>\n",
       "      <th>0</th>\n",
       "      <td>Afghanistan</td>\n",
       "      <td>1960</td>\n",
       "      <td>5.377778e+08</td>\n",
       "    </tr>\n",
       "    <tr>\n",
       "      <th>1</th>\n",
       "      <td>Afghanistan</td>\n",
       "      <td>1961</td>\n",
       "      <td>5.488889e+08</td>\n",
       "    </tr>\n",
       "    <tr>\n",
       "      <th>2</th>\n",
       "      <td>Afghanistan</td>\n",
       "      <td>1962</td>\n",
       "      <td>5.466667e+08</td>\n",
       "    </tr>\n",
       "    <tr>\n",
       "      <th>3</th>\n",
       "      <td>Afghanistan</td>\n",
       "      <td>1963</td>\n",
       "      <td>7.511112e+08</td>\n",
       "    </tr>\n",
       "    <tr>\n",
       "      <th>4</th>\n",
       "      <td>Afghanistan</td>\n",
       "      <td>1964</td>\n",
       "      <td>8.000000e+08</td>\n",
       "    </tr>\n",
       "  </tbody>\n",
       "</table>\n",
       "</div>"
      ],
      "text/plain": [
       "       country  year      gdpValue\n",
       "0  Afghanistan  1960  5.377778e+08\n",
       "1  Afghanistan  1961  5.488889e+08\n",
       "2  Afghanistan  1962  5.466667e+08\n",
       "3  Afghanistan  1963  7.511112e+08\n",
       "4  Afghanistan  1964  8.000000e+08"
      ]
     },
     "execution_count": 7,
     "metadata": {},
     "output_type": "execute_result"
    }
   ],
   "source": [
    "Df.head()"
   ]
  },
  {
   "cell_type": "code",
   "execution_count": 8,
   "id": "f476921c",
   "metadata": {},
   "outputs": [
    {
     "data": {
      "text/plain": [
       "country      object\n",
       "year          int64\n",
       "gdpValue    float64\n",
       "dtype: object"
      ]
     },
     "execution_count": 8,
     "metadata": {},
     "output_type": "execute_result"
    }
   ],
   "source": [
    "# Checking the data type to see if numerical inputs are in the form of intiger or float.\n",
    "\n",
    "Df.dtypes"
   ]
  },
  {
   "cell_type": "markdown",
   "id": "4f183c97",
   "metadata": {},
   "source": [
    "As we can see that the structure of our two datasets are not similar we need to change the structure of the datasets \n",
    "so we can make it fit our objectives. Here we are trying to restructure our CO2 percapita emission dataframe in the  shape of that of GDP growth. We use 'melt' function to do the job. We restore the transformed DataFrame with the name 'ndf'. And we are planning to merge the two datasets in order to find the correlation. We will merge the two datasets based on the 'country' and 'year' columns."
   ]
  },
  {
   "cell_type": "code",
   "execution_count": 9,
   "id": "b52efc45",
   "metadata": {},
   "outputs": [],
   "source": [
    "ndf=pd.melt(df, id_vars='country', value_vars=df.columns[1:], var_name='year', value_name='co2_perc')"
   ]
  },
  {
   "cell_type": "code",
   "execution_count": 10,
   "id": "07a12102",
   "metadata": {},
   "outputs": [],
   "source": [
    "# we sort the data based on two columns 'year' and 'country' in ascending order\n",
    "\n",
    "ndf=ndf.sort_values(by=['country', 'year'], axis=0, ascending=True)"
   ]
  },
  {
   "cell_type": "code",
   "execution_count": 11,
   "id": "4f2e63fe",
   "metadata": {
    "scrolled": false
   },
   "outputs": [
    {
     "data": {
      "text/html": [
       "<div>\n",
       "<style scoped>\n",
       "    .dataframe tbody tr th:only-of-type {\n",
       "        vertical-align: middle;\n",
       "    }\n",
       "\n",
       "    .dataframe tbody tr th {\n",
       "        vertical-align: top;\n",
       "    }\n",
       "\n",
       "    .dataframe thead th {\n",
       "        text-align: right;\n",
       "    }\n",
       "</style>\n",
       "<table border=\"1\" class=\"dataframe\">\n",
       "  <thead>\n",
       "    <tr style=\"text-align: right;\">\n",
       "      <th></th>\n",
       "      <th>country</th>\n",
       "      <th>year</th>\n",
       "      <th>co2_perc</th>\n",
       "    </tr>\n",
       "  </thead>\n",
       "  <tbody>\n",
       "    <tr>\n",
       "      <th>0</th>\n",
       "      <td>Afghanistan</td>\n",
       "      <td>1800</td>\n",
       "      <td>0.001</td>\n",
       "    </tr>\n",
       "    <tr>\n",
       "      <th>194</th>\n",
       "      <td>Afghanistan</td>\n",
       "      <td>1801</td>\n",
       "      <td>0.001</td>\n",
       "    </tr>\n",
       "    <tr>\n",
       "      <th>388</th>\n",
       "      <td>Afghanistan</td>\n",
       "      <td>1802</td>\n",
       "      <td>0.001</td>\n",
       "    </tr>\n",
       "    <tr>\n",
       "      <th>582</th>\n",
       "      <td>Afghanistan</td>\n",
       "      <td>1803</td>\n",
       "      <td>0.001</td>\n",
       "    </tr>\n",
       "    <tr>\n",
       "      <th>776</th>\n",
       "      <td>Afghanistan</td>\n",
       "      <td>1804</td>\n",
       "      <td>0.001</td>\n",
       "    </tr>\n",
       "  </tbody>\n",
       "</table>\n",
       "</div>"
      ],
      "text/plain": [
       "         country  year co2_perc\n",
       "0    Afghanistan  1800    0.001\n",
       "194  Afghanistan  1801    0.001\n",
       "388  Afghanistan  1802    0.001\n",
       "582  Afghanistan  1803    0.001\n",
       "776  Afghanistan  1804    0.001"
      ]
     },
     "execution_count": 11,
     "metadata": {},
     "output_type": "execute_result"
    }
   ],
   "source": [
    "ndf.head()"
   ]
  },
  {
   "cell_type": "code",
   "execution_count": 12,
   "id": "c25aa377",
   "metadata": {},
   "outputs": [
    {
     "data": {
      "text/plain": [
       "country     object\n",
       "year        object\n",
       "co2_perc    object\n",
       "dtype: object"
      ]
     },
     "execution_count": 12,
     "metadata": {},
     "output_type": "execute_result"
    }
   ],
   "source": [
    "ndf.dtypes"
   ]
  },
  {
   "cell_type": "code",
   "execution_count": 13,
   "id": "fb5691e3",
   "metadata": {},
   "outputs": [],
   "source": [
    "#We need to make the data type of two the columns similar in order to merge based on them. \n",
    "# Here we are changing the data type of colunm 'year' to make it similar to the data type of 'year' in GDP growth dataset.\n",
    "\n",
    "ndf['year']=ndf['year'].astype(int)"
   ]
  },
  {
   "cell_type": "code",
   "execution_count": 14,
   "id": "96e82d95",
   "metadata": {},
   "outputs": [
    {
     "data": {
      "text/plain": [
       "country     object\n",
       "year         int32\n",
       "co2_perc    object\n",
       "dtype: object"
      ]
     },
     "execution_count": 14,
     "metadata": {},
     "output_type": "execute_result"
    }
   ],
   "source": [
    "ndf.dtypes"
   ]
  },
  {
   "cell_type": "code",
   "execution_count": 15,
   "id": "d164437e",
   "metadata": {},
   "outputs": [],
   "source": [
    "# Here we are merging the two datasets based on columns 'country' and 'year' and restore it to the dataframe with the name 'mergeDF'\n",
    "\n",
    "mergeDF=pd.merge(ndf, Df, on=['country', 'year'])"
   ]
  },
  {
   "cell_type": "code",
   "execution_count": 16,
   "id": "5007c9a3",
   "metadata": {},
   "outputs": [
    {
     "data": {
      "text/html": [
       "<div>\n",
       "<style scoped>\n",
       "    .dataframe tbody tr th:only-of-type {\n",
       "        vertical-align: middle;\n",
       "    }\n",
       "\n",
       "    .dataframe tbody tr th {\n",
       "        vertical-align: top;\n",
       "    }\n",
       "\n",
       "    .dataframe thead th {\n",
       "        text-align: right;\n",
       "    }\n",
       "</style>\n",
       "<table border=\"1\" class=\"dataframe\">\n",
       "  <thead>\n",
       "    <tr style=\"text-align: right;\">\n",
       "      <th></th>\n",
       "      <th>country</th>\n",
       "      <th>year</th>\n",
       "      <th>co2_perc</th>\n",
       "      <th>gdpValue</th>\n",
       "    </tr>\n",
       "  </thead>\n",
       "  <tbody>\n",
       "    <tr>\n",
       "      <th>0</th>\n",
       "      <td>Afghanistan</td>\n",
       "      <td>1960</td>\n",
       "      <td>0.046</td>\n",
       "      <td>5.377778e+08</td>\n",
       "    </tr>\n",
       "    <tr>\n",
       "      <th>1</th>\n",
       "      <td>Afghanistan</td>\n",
       "      <td>1961</td>\n",
       "      <td>0.054</td>\n",
       "      <td>5.488889e+08</td>\n",
       "    </tr>\n",
       "    <tr>\n",
       "      <th>2</th>\n",
       "      <td>Afghanistan</td>\n",
       "      <td>1962</td>\n",
       "      <td>0.074</td>\n",
       "      <td>5.466667e+08</td>\n",
       "    </tr>\n",
       "    <tr>\n",
       "      <th>3</th>\n",
       "      <td>Afghanistan</td>\n",
       "      <td>1963</td>\n",
       "      <td>0.074</td>\n",
       "      <td>7.511112e+08</td>\n",
       "    </tr>\n",
       "    <tr>\n",
       "      <th>4</th>\n",
       "      <td>Afghanistan</td>\n",
       "      <td>1964</td>\n",
       "      <td>0.086</td>\n",
       "      <td>8.000000e+08</td>\n",
       "    </tr>\n",
       "  </tbody>\n",
       "</table>\n",
       "</div>"
      ],
      "text/plain": [
       "       country  year co2_perc      gdpValue\n",
       "0  Afghanistan  1960    0.046  5.377778e+08\n",
       "1  Afghanistan  1961    0.054  5.488889e+08\n",
       "2  Afghanistan  1962    0.074  5.466667e+08\n",
       "3  Afghanistan  1963    0.074  7.511112e+08\n",
       "4  Afghanistan  1964    0.086  8.000000e+08"
      ]
     },
     "execution_count": 16,
     "metadata": {},
     "output_type": "execute_result"
    }
   ],
   "source": [
    "mergeDF.head()"
   ]
  },
  {
   "cell_type": "code",
   "execution_count": 17,
   "id": "b2824a8d",
   "metadata": {},
   "outputs": [
    {
     "data": {
      "text/html": [
       "<div>\n",
       "<style scoped>\n",
       "    .dataframe tbody tr th:only-of-type {\n",
       "        vertical-align: middle;\n",
       "    }\n",
       "\n",
       "    .dataframe tbody tr th {\n",
       "        vertical-align: top;\n",
       "    }\n",
       "\n",
       "    .dataframe thead th {\n",
       "        text-align: right;\n",
       "    }\n",
       "</style>\n",
       "<table border=\"1\" class=\"dataframe\">\n",
       "  <thead>\n",
       "    <tr style=\"text-align: right;\">\n",
       "      <th></th>\n",
       "      <th>country</th>\n",
       "      <th>year</th>\n",
       "      <th>co2_perc</th>\n",
       "      <th>gdpValue</th>\n",
       "    </tr>\n",
       "  </thead>\n",
       "  <tbody>\n",
       "    <tr>\n",
       "      <th>0</th>\n",
       "      <td>Afghanistan</td>\n",
       "      <td>1960</td>\n",
       "      <td>0.046</td>\n",
       "      <td>5.377778e+08</td>\n",
       "    </tr>\n",
       "    <tr>\n",
       "      <th>1</th>\n",
       "      <td>Afghanistan</td>\n",
       "      <td>1961</td>\n",
       "      <td>0.054</td>\n",
       "      <td>5.488889e+08</td>\n",
       "    </tr>\n",
       "    <tr>\n",
       "      <th>2</th>\n",
       "      <td>Afghanistan</td>\n",
       "      <td>1962</td>\n",
       "      <td>0.074</td>\n",
       "      <td>5.466667e+08</td>\n",
       "    </tr>\n",
       "    <tr>\n",
       "      <th>3</th>\n",
       "      <td>Afghanistan</td>\n",
       "      <td>1963</td>\n",
       "      <td>0.074</td>\n",
       "      <td>7.511112e+08</td>\n",
       "    </tr>\n",
       "    <tr>\n",
       "      <th>4</th>\n",
       "      <td>Afghanistan</td>\n",
       "      <td>1964</td>\n",
       "      <td>0.086</td>\n",
       "      <td>8.000000e+08</td>\n",
       "    </tr>\n",
       "  </tbody>\n",
       "</table>\n",
       "</div>"
      ],
      "text/plain": [
       "       country  year co2_perc      gdpValue\n",
       "0  Afghanistan  1960    0.046  5.377778e+08\n",
       "1  Afghanistan  1961    0.054  5.488889e+08\n",
       "2  Afghanistan  1962    0.074  5.466667e+08\n",
       "3  Afghanistan  1963    0.074  7.511112e+08\n",
       "4  Afghanistan  1964    0.086  8.000000e+08"
      ]
     },
     "execution_count": 17,
     "metadata": {},
     "output_type": "execute_result"
    }
   ],
   "source": [
    "mergeDF.head()"
   ]
  },
  {
   "cell_type": "code",
   "execution_count": 18,
   "id": "48e21836",
   "metadata": {},
   "outputs": [
    {
     "data": {
      "text/plain": [
       "country     0\n",
       "year        0\n",
       "co2_perc    0\n",
       "gdpValue    0\n",
       "dtype: int64"
      ]
     },
     "execution_count": 18,
     "metadata": {},
     "output_type": "execute_result"
    }
   ],
   "source": [
    "# We check if there is any null values.  \n",
    "\n",
    "mergeDF.isna().sum()"
   ]
  },
  {
   "cell_type": "code",
   "execution_count": 19,
   "id": "342414a8",
   "metadata": {
    "scrolled": true
   },
   "outputs": [
    {
     "data": {
      "text/plain": [
       "country      object\n",
       "year          int32\n",
       "co2_perc     object\n",
       "gdpValue    float64\n",
       "dtype: object"
      ]
     },
     "execution_count": 19,
     "metadata": {},
     "output_type": "execute_result"
    }
   ],
   "source": [
    "mergeDF.dtypes "
   ]
  },
  {
   "cell_type": "code",
   "execution_count": 20,
   "id": "6674eecd",
   "metadata": {},
   "outputs": [],
   "source": [
    "# we convert 'co2_perc' column to float by using to_numeric function, as we see above that its type is object.\n",
    "\n",
    "\n",
    "mergeDF['co2_perc']=pd.to_numeric(mergeDF['co2_perc'], errors='coerce')"
   ]
  },
  {
   "cell_type": "code",
   "execution_count": 21,
   "id": "cdbbab54",
   "metadata": {},
   "outputs": [
    {
     "data": {
      "text/plain": [
       "country      object\n",
       "year          int32\n",
       "co2_perc    float64\n",
       "gdpValue    float64\n",
       "dtype: object"
      ]
     },
     "execution_count": 21,
     "metadata": {},
     "output_type": "execute_result"
    }
   ],
   "source": [
    "mergeDF.dtypes"
   ]
  },
  {
   "cell_type": "code",
   "execution_count": 22,
   "id": "1412f013",
   "metadata": {},
   "outputs": [
    {
     "data": {
      "text/html": [
       "<div>\n",
       "<style scoped>\n",
       "    .dataframe tbody tr th:only-of-type {\n",
       "        vertical-align: middle;\n",
       "    }\n",
       "\n",
       "    .dataframe tbody tr th {\n",
       "        vertical-align: top;\n",
       "    }\n",
       "\n",
       "    .dataframe thead th {\n",
       "        text-align: right;\n",
       "    }\n",
       "</style>\n",
       "<table border=\"1\" class=\"dataframe\">\n",
       "  <thead>\n",
       "    <tr style=\"text-align: right;\">\n",
       "      <th></th>\n",
       "      <th>country</th>\n",
       "      <th>year</th>\n",
       "      <th>co2_perc</th>\n",
       "      <th>gdpValue</th>\n",
       "    </tr>\n",
       "  </thead>\n",
       "  <tbody>\n",
       "    <tr>\n",
       "      <th>0</th>\n",
       "      <td>Afghanistan</td>\n",
       "      <td>1960</td>\n",
       "      <td>0.046</td>\n",
       "      <td>5.377778e+08</td>\n",
       "    </tr>\n",
       "    <tr>\n",
       "      <th>1</th>\n",
       "      <td>Afghanistan</td>\n",
       "      <td>1961</td>\n",
       "      <td>0.054</td>\n",
       "      <td>5.488889e+08</td>\n",
       "    </tr>\n",
       "    <tr>\n",
       "      <th>2</th>\n",
       "      <td>Afghanistan</td>\n",
       "      <td>1962</td>\n",
       "      <td>0.074</td>\n",
       "      <td>5.466667e+08</td>\n",
       "    </tr>\n",
       "    <tr>\n",
       "      <th>3</th>\n",
       "      <td>Afghanistan</td>\n",
       "      <td>1963</td>\n",
       "      <td>0.074</td>\n",
       "      <td>7.511112e+08</td>\n",
       "    </tr>\n",
       "    <tr>\n",
       "      <th>4</th>\n",
       "      <td>Afghanistan</td>\n",
       "      <td>1964</td>\n",
       "      <td>0.086</td>\n",
       "      <td>8.000000e+08</td>\n",
       "    </tr>\n",
       "  </tbody>\n",
       "</table>\n",
       "</div>"
      ],
      "text/plain": [
       "       country  year  co2_perc      gdpValue\n",
       "0  Afghanistan  1960     0.046  5.377778e+08\n",
       "1  Afghanistan  1961     0.054  5.488889e+08\n",
       "2  Afghanistan  1962     0.074  5.466667e+08\n",
       "3  Afghanistan  1963     0.074  7.511112e+08\n",
       "4  Afghanistan  1964     0.086  8.000000e+08"
      ]
     },
     "execution_count": 22,
     "metadata": {},
     "output_type": "execute_result"
    }
   ],
   "source": [
    "mergeDF.head()"
   ]
  },
  {
   "cell_type": "code",
   "execution_count": 23,
   "id": "f0a816ca",
   "metadata": {},
   "outputs": [
    {
     "data": {
      "text/plain": [
       "(7829, 4)"
      ]
     },
     "execution_count": 23,
     "metadata": {},
     "output_type": "execute_result"
    }
   ],
   "source": [
    "# We can see our dataset's shape to check how big is our dataset\n",
    "\n",
    "mergeDF.shape"
   ]
  },
  {
   "cell_type": "code",
   "execution_count": 24,
   "id": "49f8f724",
   "metadata": {},
   "outputs": [
    {
     "data": {
      "text/html": [
       "<div>\n",
       "<style scoped>\n",
       "    .dataframe tbody tr th:only-of-type {\n",
       "        vertical-align: middle;\n",
       "    }\n",
       "\n",
       "    .dataframe tbody tr th {\n",
       "        vertical-align: top;\n",
       "    }\n",
       "\n",
       "    .dataframe thead th {\n",
       "        text-align: right;\n",
       "    }\n",
       "</style>\n",
       "<table border=\"1\" class=\"dataframe\">\n",
       "  <thead>\n",
       "    <tr style=\"text-align: right;\">\n",
       "      <th></th>\n",
       "      <th>co2_perc</th>\n",
       "      <th>gdpValue</th>\n",
       "    </tr>\n",
       "  </thead>\n",
       "  <tbody>\n",
       "    <tr>\n",
       "      <th>co2_perc</th>\n",
       "      <td>1.000000</td>\n",
       "      <td>0.184381</td>\n",
       "    </tr>\n",
       "    <tr>\n",
       "      <th>gdpValue</th>\n",
       "      <td>0.184381</td>\n",
       "      <td>1.000000</td>\n",
       "    </tr>\n",
       "  </tbody>\n",
       "</table>\n",
       "</div>"
      ],
      "text/plain": [
       "          co2_perc  gdpValue\n",
       "co2_perc  1.000000  0.184381\n",
       "gdpValue  0.184381  1.000000"
      ]
     },
     "execution_count": 24,
     "metadata": {},
     "output_type": "execute_result"
    }
   ],
   "source": [
    "# We want to see how GDP growth and CO2 percapit emission correlate. We calculate correlation by methode 'corr'\n",
    "\n",
    "mergeDF[['co2_perc', 'gdpValue' ]].corr() "
   ]
  },
  {
   "cell_type": "code",
   "execution_count": 25,
   "id": "652949bd",
   "metadata": {},
   "outputs": [
    {
     "data": {
      "text/plain": [
       "<AxesSubplot:xlabel='co2_perc', ylabel='gdpValue'>"
      ]
     },
     "execution_count": 25,
     "metadata": {},
     "output_type": "execute_result"
    },
    {
     "data": {
      "image/png": "[encoded data removed]",
      "text/plain": [
       "<Figure size 640x480 with 1 Axes>"
      ]
     },
     "metadata": {},
     "output_type": "display_data"
    }
   ],
   "source": [
    "# Checking how this correlation looks visually, so we plot GDP growth on one axis and CO2 percapit emission on another. \n",
    "\n",
    "mergeDF.plot(kind='scatter', x='co2_perc', y='gdpValue')"
   ]
  },
  {
   "cell_type": "code",
   "execution_count": 26,
   "id": "61c89708",
   "metadata": {},
   "outputs": [
    {
     "data": {
      "text/plain": [
       "<AxesSubplot:xlabel='year', ylabel='co2_perc'>"
      ]
     },
     "execution_count": 26,
     "metadata": {},
     "output_type": "execute_result"
    },
    {
     "data": {
      "image/png": "[encoded data removed]",
      "text/plain": [
       "<Figure size 640x480 with 1 Axes>"
      ]
     },
     "metadata": {},
     "output_type": "display_data"
    }
   ],
   "source": [
    "# Checking how CO2 percapit emission was changing over time\n",
    "\n",
    "mergeDF.plot(kind='scatter', y='co2_perc', x='year')"
   ]
  },
  {
   "cell_type": "code",
   "execution_count": 27,
   "id": "ca6db379",
   "metadata": {},
   "outputs": [
    {
     "data": {
      "text/plain": [
       "<AxesSubplot:xlabel='year', ylabel='gdpValue'>"
      ]
     },
     "execution_count": 27,
     "metadata": {},
     "output_type": "execute_result"
    },
    {
     "data": {
      "image/png": "[encoded data removed]",
      "text/plain": [
       "<Figure size 640x480 with 1 Axes>"
      ]
     },
     "metadata": {},
     "output_type": "display_data"
    }
   ],
   "source": [
    "# Checking how GDP growth has changed over time.\n",
    "\n",
    "mergeDF.plot(kind='scatter', x='year', y='gdpValue')"
   ]
  },
  {
   "cell_type": "markdown",
   "id": "5dfa69c3",
   "metadata": {},
   "source": [
    "### Second part of the analysis\n",
    "In this part we  concentrate on some Erupean countries and analyze how expenditure on research and development (R&D) correlate with GDP growth. The data is available in MS Excel form in Eurostat website (https://ec.europa.eu/eurostat/databrowser/view/tipsst10/default/table?lang=en). We read only the sheet one of this file. But befor uploading directly this data we have cleaned some part in Excel in order to make it suitable for the python.  "
   ]
  },
  {
   "cell_type": "code",
   "execution_count": 28,
   "id": "b2f9953e",
   "metadata": {},
   "outputs": [],
   "source": [
    "DF=pd.read_excel('Percentage of GDP used on R&D in EU Countries.xlsx', sheet_name='Sheet 1')"
   ]
  },
  {
   "cell_type": "code",
   "execution_count": 29,
   "id": "6e2761a3",
   "metadata": {},
   "outputs": [
    {
     "data": {
      "text/plain": [
       "Index(['TIME', '1995', 'Unnamed: 2', '1996', 'Unnamed: 4', '1997',\n",
       "       'Unnamed: 6', '1998', 'Unnamed: 8', '1999', 'Unnamed: 10', '2000',\n",
       "       'Unnamed: 12', '2001', 'Unnamed: 14', '2002', 'Unnamed: 16', '2003',\n",
       "       'Unnamed: 18', '2004', 'Unnamed: 20', '2005', 'Unnamed: 22', '2006',\n",
       "       'Unnamed: 24', '2007', 'Unnamed: 26', '2008', 'Unnamed: 28', '2009',\n",
       "       'Unnamed: 30', '2010', 'Unnamed: 32', '2011', 'Unnamed: 34', '2012',\n",
       "       'Unnamed: 36', '2013', 'Unnamed: 38', '2014', 'Unnamed: 40', '2015',\n",
       "       'Unnamed: 42', '2016', 'Unnamed: 44', '2017', 'Unnamed: 46', '2018',\n",
       "       'Unnamed: 48', '2019', 'Unnamed: 50', '2020', 'Unnamed: 52', '2021',\n",
       "       'Unnamed: 54', '2022', 'Unnamed: 56'],\n",
       "      dtype='object')"
      ]
     },
     "execution_count": 29,
     "metadata": {},
     "output_type": "execute_result"
    }
   ],
   "source": [
    "# Checking the columns \n",
    "\n",
    "DF.columns"
   ]
  },
  {
   "cell_type": "code",
   "execution_count": 30,
   "id": "a3c4bf2f",
   "metadata": {},
   "outputs": [
    {
     "data": {
      "text/html": [
       "<div>\n",
       "<style scoped>\n",
       "    .dataframe tbody tr th:only-of-type {\n",
       "        vertical-align: middle;\n",
       "    }\n",
       "\n",
       "    .dataframe tbody tr th {\n",
       "        vertical-align: top;\n",
       "    }\n",
       "\n",
       "    .dataframe thead th {\n",
       "        text-align: right;\n",
       "    }\n",
       "</style>\n",
       "<table border=\"1\" class=\"dataframe\">\n",
       "  <thead>\n",
       "    <tr style=\"text-align: right;\">\n",
       "      <th></th>\n",
       "      <th>TIME</th>\n",
       "      <th>1995</th>\n",
       "      <th>Unnamed: 2</th>\n",
       "      <th>1996</th>\n",
       "      <th>Unnamed: 4</th>\n",
       "      <th>1997</th>\n",
       "      <th>Unnamed: 6</th>\n",
       "      <th>1998</th>\n",
       "      <th>Unnamed: 8</th>\n",
       "      <th>1999</th>\n",
       "      <th>...</th>\n",
       "      <th>2018</th>\n",
       "      <th>Unnamed: 48</th>\n",
       "      <th>2019</th>\n",
       "      <th>Unnamed: 50</th>\n",
       "      <th>2020</th>\n",
       "      <th>Unnamed: 52</th>\n",
       "      <th>2021</th>\n",
       "      <th>Unnamed: 54</th>\n",
       "      <th>2022</th>\n",
       "      <th>Unnamed: 56</th>\n",
       "    </tr>\n",
       "  </thead>\n",
       "  <tbody>\n",
       "    <tr>\n",
       "      <th>0</th>\n",
       "      <td>European Union - 27 countries (from 2020)</td>\n",
       "      <td>:</td>\n",
       "      <td>NaN</td>\n",
       "      <td>:</td>\n",
       "      <td>NaN</td>\n",
       "      <td>:</td>\n",
       "      <td>NaN</td>\n",
       "      <td>:</td>\n",
       "      <td>NaN</td>\n",
       "      <td>:</td>\n",
       "      <td>...</td>\n",
       "      <td>2.18</td>\n",
       "      <td>e</td>\n",
       "      <td>2.22</td>\n",
       "      <td>e</td>\n",
       "      <td>2.30</td>\n",
       "      <td>e</td>\n",
       "      <td>2.27</td>\n",
       "      <td>e</td>\n",
       "      <td>2.24</td>\n",
       "      <td>e</td>\n",
       "    </tr>\n",
       "    <tr>\n",
       "      <th>1</th>\n",
       "      <td>Euro area – 20 countries (from 2023)</td>\n",
       "      <td>:</td>\n",
       "      <td>NaN</td>\n",
       "      <td>:</td>\n",
       "      <td>NaN</td>\n",
       "      <td>:</td>\n",
       "      <td>NaN</td>\n",
       "      <td>:</td>\n",
       "      <td>NaN</td>\n",
       "      <td>:</td>\n",
       "      <td>...</td>\n",
       "      <td>2.21</td>\n",
       "      <td>e</td>\n",
       "      <td>2.25</td>\n",
       "      <td>NaN</td>\n",
       "      <td>2.33</td>\n",
       "      <td>e</td>\n",
       "      <td>2.30</td>\n",
       "      <td>NaN</td>\n",
       "      <td>2.27</td>\n",
       "      <td>e</td>\n",
       "    </tr>\n",
       "    <tr>\n",
       "      <th>2</th>\n",
       "      <td>Belgium</td>\n",
       "      <td>1.65</td>\n",
       "      <td>NaN</td>\n",
       "      <td>1.74</td>\n",
       "      <td>NaN</td>\n",
       "      <td>1.81</td>\n",
       "      <td>NaN</td>\n",
       "      <td>1.84</td>\n",
       "      <td>NaN</td>\n",
       "      <td>1.91</td>\n",
       "      <td>...</td>\n",
       "      <td>2.86</td>\n",
       "      <td>NaN</td>\n",
       "      <td>3.16</td>\n",
       "      <td>NaN</td>\n",
       "      <td>3.40</td>\n",
       "      <td>NaN</td>\n",
       "      <td>3.43</td>\n",
       "      <td>NaN</td>\n",
       "      <td>3.43</td>\n",
       "      <td>p</td>\n",
       "    </tr>\n",
       "    <tr>\n",
       "      <th>3</th>\n",
       "      <td>Bulgaria</td>\n",
       "      <td>0.43</td>\n",
       "      <td>NaN</td>\n",
       "      <td>0.42</td>\n",
       "      <td>b</td>\n",
       "      <td>0.47</td>\n",
       "      <td>NaN</td>\n",
       "      <td>0.48</td>\n",
       "      <td>NaN</td>\n",
       "      <td>0.54</td>\n",
       "      <td>...</td>\n",
       "      <td>0.75</td>\n",
       "      <td>NaN</td>\n",
       "      <td>0.83</td>\n",
       "      <td>NaN</td>\n",
       "      <td>0.85</td>\n",
       "      <td>NaN</td>\n",
       "      <td>0.77</td>\n",
       "      <td>NaN</td>\n",
       "      <td>0.77</td>\n",
       "      <td>NaN</td>\n",
       "    </tr>\n",
       "    <tr>\n",
       "      <th>4</th>\n",
       "      <td>Czechia</td>\n",
       "      <td>0.88</td>\n",
       "      <td>b</td>\n",
       "      <td>0.89</td>\n",
       "      <td>NaN</td>\n",
       "      <td>0.99</td>\n",
       "      <td>NaN</td>\n",
       "      <td>1.06</td>\n",
       "      <td>NaN</td>\n",
       "      <td>1.05</td>\n",
       "      <td>...</td>\n",
       "      <td>1.90</td>\n",
       "      <td>NaN</td>\n",
       "      <td>1.93</td>\n",
       "      <td>NaN</td>\n",
       "      <td>1.99</td>\n",
       "      <td>NaN</td>\n",
       "      <td>2.00</td>\n",
       "      <td>NaN</td>\n",
       "      <td>1.96</td>\n",
       "      <td>p</td>\n",
       "    </tr>\n",
       "  </tbody>\n",
       "</table>\n",
       "<p>5 rows × 57 columns</p>\n",
       "</div>"
      ],
      "text/plain": [
       "                                        TIME  1995 Unnamed: 2  1996  \\\n",
       "0  European Union - 27 countries (from 2020)     :        NaN     :   \n",
       "1       Euro area – 20 countries (from 2023)     :        NaN     :   \n",
       "2                                    Belgium  1.65        NaN  1.74   \n",
       "3                                   Bulgaria  0.43        NaN  0.42   \n",
       "4                                    Czechia  0.88          b  0.89   \n",
       "\n",
       "  Unnamed: 4  1997 Unnamed: 6  1998 Unnamed: 8  1999  ...  2018 Unnamed: 48  \\\n",
       "0        NaN     :        NaN     :        NaN     :  ...  2.18           e   \n",
       "1        NaN     :        NaN     :        NaN     :  ...  2.21           e   \n",
       "2        NaN  1.81        NaN  1.84        NaN  1.91  ...  2.86         NaN   \n",
       "3          b  0.47        NaN  0.48        NaN  0.54  ...  0.75         NaN   \n",
       "4        NaN  0.99        NaN  1.06        NaN  1.05  ...  1.90         NaN   \n",
       "\n",
       "   2019 Unnamed: 50  2020 Unnamed: 52  2021  Unnamed: 54  2022  Unnamed: 56  \n",
       "0  2.22           e  2.30           e  2.27            e  2.24            e  \n",
       "1  2.25         NaN  2.33           e  2.30          NaN  2.27            e  \n",
       "2  3.16         NaN  3.40         NaN  3.43          NaN  3.43            p  \n",
       "3  0.83         NaN  0.85         NaN  0.77          NaN  0.77          NaN  \n",
       "4  1.93         NaN  1.99         NaN  2.00          NaN  1.96            p  \n",
       "\n",
       "[5 rows x 57 columns]"
      ]
     },
     "execution_count": 30,
     "metadata": {},
     "output_type": "execute_result"
    }
   ],
   "source": [
    "# Checking the dataframe\n",
    "\n",
    "DF.head()"
   ]
  },
  {
   "cell_type": "code",
   "execution_count": 31,
   "id": "61b7a006",
   "metadata": {},
   "outputs": [],
   "source": [
    "# Observing from the dataframe that there are alot of redendent columns that need to be deleted. \n",
    "# We make this list of the redendent columns. \n",
    "\n",
    "\n",
    "\n",
    "ListNoName=['Unnamed: 2',\n",
    "'Unnamed: 4',\n",
    "'Unnamed: 6',\n",
    "'Unnamed: 8',\n",
    "'Unnamed: 10',\n",
    "'Unnamed: 12',\n",
    "'Unnamed: 14',\n",
    "'Unnamed: 16',\n",
    "'Unnamed: 18',\n",
    "'Unnamed: 20',\n",
    "'Unnamed: 22',\n",
    "'Unnamed: 24',\n",
    "'Unnamed: 26',\n",
    "'Unnamed: 28',\n",
    "'Unnamed: 30',\n",
    "'Unnamed: 32',\n",
    "'Unnamed: 34',\n",
    "'Unnamed: 36',\n",
    "'Unnamed: 38',\n",
    "'Unnamed: 40',\n",
    "'Unnamed: 42',\n",
    "'Unnamed: 44',\n",
    "'Unnamed: 46',\n",
    "'Unnamed: 48',\n",
    "'Unnamed: 50',\n",
    "'Unnamed: 52',\n",
    "'Unnamed: 54',\n",
    "'Unnamed: 56']"
   ]
  },
  {
   "cell_type": "code",
   "execution_count": 32,
   "id": "a0e77d62",
   "metadata": {},
   "outputs": [],
   "source": [
    "# We delete the redendent columns\n",
    "\n",
    "DF=DF.drop(columns=ListNoName)"
   ]
  },
  {
   "cell_type": "code",
   "execution_count": 33,
   "id": "6d3d76c6",
   "metadata": {},
   "outputs": [
    {
     "data": {
      "text/plain": [
       "Index(['TIME', '1995', '1996', '1997', '1998', '1999', '2000', '2001', '2002',\n",
       "       '2003', '2004', '2005', '2006', '2007', '2008', '2009', '2010', '2011',\n",
       "       '2012', '2013', '2014', '2015', '2016', '2017', '2018', '2019', '2020',\n",
       "       '2021', '2022'],\n",
       "      dtype='object')"
      ]
     },
     "execution_count": 33,
     "metadata": {},
     "output_type": "execute_result"
    }
   ],
   "source": [
    "DF.columns"
   ]
  },
  {
   "cell_type": "code",
   "execution_count": 34,
   "id": "d968af73",
   "metadata": {
    "scrolled": true
   },
   "outputs": [
    {
     "data": {
      "text/html": [
       "<div>\n",
       "<style scoped>\n",
       "    .dataframe tbody tr th:only-of-type {\n",
       "        vertical-align: middle;\n",
       "    }\n",
       "\n",
       "    .dataframe tbody tr th {\n",
       "        vertical-align: top;\n",
       "    }\n",
       "\n",
       "    .dataframe thead th {\n",
       "        text-align: right;\n",
       "    }\n",
       "</style>\n",
       "<table border=\"1\" class=\"dataframe\">\n",
       "  <thead>\n",
       "    <tr style=\"text-align: right;\">\n",
       "      <th></th>\n",
       "      <th>TIME</th>\n",
       "      <th>1995</th>\n",
       "      <th>1996</th>\n",
       "      <th>1997</th>\n",
       "      <th>1998</th>\n",
       "      <th>1999</th>\n",
       "      <th>2000</th>\n",
       "      <th>2001</th>\n",
       "      <th>2002</th>\n",
       "      <th>2003</th>\n",
       "      <th>...</th>\n",
       "      <th>2013</th>\n",
       "      <th>2014</th>\n",
       "      <th>2015</th>\n",
       "      <th>2016</th>\n",
       "      <th>2017</th>\n",
       "      <th>2018</th>\n",
       "      <th>2019</th>\n",
       "      <th>2020</th>\n",
       "      <th>2021</th>\n",
       "      <th>2022</th>\n",
       "    </tr>\n",
       "  </thead>\n",
       "  <tbody>\n",
       "    <tr>\n",
       "      <th>0</th>\n",
       "      <td>European Union - 27 countries (from 2020)</td>\n",
       "      <td>:</td>\n",
       "      <td>:</td>\n",
       "      <td>:</td>\n",
       "      <td>:</td>\n",
       "      <td>:</td>\n",
       "      <td>1.81</td>\n",
       "      <td>1.82</td>\n",
       "      <td>1.83</td>\n",
       "      <td>1.83</td>\n",
       "      <td>...</td>\n",
       "      <td>2.10</td>\n",
       "      <td>2.11</td>\n",
       "      <td>2.12</td>\n",
       "      <td>2.12</td>\n",
       "      <td>2.15</td>\n",
       "      <td>2.18</td>\n",
       "      <td>2.22</td>\n",
       "      <td>2.30</td>\n",
       "      <td>2.27</td>\n",
       "      <td>2.24</td>\n",
       "    </tr>\n",
       "    <tr>\n",
       "      <th>1</th>\n",
       "      <td>Euro area – 20 countries (from 2023)</td>\n",
       "      <td>:</td>\n",
       "      <td>:</td>\n",
       "      <td>:</td>\n",
       "      <td>:</td>\n",
       "      <td>:</td>\n",
       "      <td>1.78</td>\n",
       "      <td>1.8</td>\n",
       "      <td>1.81</td>\n",
       "      <td>1.81</td>\n",
       "      <td>...</td>\n",
       "      <td>2.11</td>\n",
       "      <td>2.13</td>\n",
       "      <td>2.13</td>\n",
       "      <td>2.14</td>\n",
       "      <td>2.18</td>\n",
       "      <td>2.21</td>\n",
       "      <td>2.25</td>\n",
       "      <td>2.33</td>\n",
       "      <td>2.30</td>\n",
       "      <td>2.27</td>\n",
       "    </tr>\n",
       "    <tr>\n",
       "      <th>2</th>\n",
       "      <td>Belgium</td>\n",
       "      <td>1.65</td>\n",
       "      <td>1.74</td>\n",
       "      <td>1.81</td>\n",
       "      <td>1.84</td>\n",
       "      <td>1.91</td>\n",
       "      <td>1.94</td>\n",
       "      <td>2.03</td>\n",
       "      <td>1.9</td>\n",
       "      <td>1.84</td>\n",
       "      <td>...</td>\n",
       "      <td>2.33</td>\n",
       "      <td>2.37</td>\n",
       "      <td>2.43</td>\n",
       "      <td>2.52</td>\n",
       "      <td>2.67</td>\n",
       "      <td>2.86</td>\n",
       "      <td>3.16</td>\n",
       "      <td>3.40</td>\n",
       "      <td>3.43</td>\n",
       "      <td>3.43</td>\n",
       "    </tr>\n",
       "    <tr>\n",
       "      <th>3</th>\n",
       "      <td>Bulgaria</td>\n",
       "      <td>0.43</td>\n",
       "      <td>0.42</td>\n",
       "      <td>0.47</td>\n",
       "      <td>0.48</td>\n",
       "      <td>0.54</td>\n",
       "      <td>0.5</td>\n",
       "      <td>0.45</td>\n",
       "      <td>0.46</td>\n",
       "      <td>0.47</td>\n",
       "      <td>...</td>\n",
       "      <td>0.63</td>\n",
       "      <td>0.79</td>\n",
       "      <td>0.95</td>\n",
       "      <td>0.77</td>\n",
       "      <td>0.74</td>\n",
       "      <td>0.75</td>\n",
       "      <td>0.83</td>\n",
       "      <td>0.85</td>\n",
       "      <td>0.77</td>\n",
       "      <td>0.77</td>\n",
       "    </tr>\n",
       "    <tr>\n",
       "      <th>4</th>\n",
       "      <td>Czechia</td>\n",
       "      <td>0.88</td>\n",
       "      <td>0.89</td>\n",
       "      <td>0.99</td>\n",
       "      <td>1.06</td>\n",
       "      <td>1.05</td>\n",
       "      <td>1.11</td>\n",
       "      <td>1.1</td>\n",
       "      <td>1.1</td>\n",
       "      <td>1.14</td>\n",
       "      <td>...</td>\n",
       "      <td>1.88</td>\n",
       "      <td>1.96</td>\n",
       "      <td>1.92</td>\n",
       "      <td>1.67</td>\n",
       "      <td>1.77</td>\n",
       "      <td>1.90</td>\n",
       "      <td>1.93</td>\n",
       "      <td>1.99</td>\n",
       "      <td>2.00</td>\n",
       "      <td>1.96</td>\n",
       "    </tr>\n",
       "  </tbody>\n",
       "</table>\n",
       "<p>5 rows × 29 columns</p>\n",
       "</div>"
      ],
      "text/plain": [
       "                                        TIME  1995  1996  1997  1998  1999  \\\n",
       "0  European Union - 27 countries (from 2020)     :     :     :     :     :   \n",
       "1       Euro area – 20 countries (from 2023)     :     :     :     :     :   \n",
       "2                                    Belgium  1.65  1.74  1.81  1.84  1.91   \n",
       "3                                   Bulgaria  0.43  0.42  0.47  0.48  0.54   \n",
       "4                                    Czechia  0.88  0.89  0.99  1.06  1.05   \n",
       "\n",
       "   2000  2001  2002  2003  ...  2013  2014  2015  2016  2017  2018  2019  \\\n",
       "0  1.81  1.82  1.83  1.83  ...  2.10  2.11  2.12  2.12  2.15  2.18  2.22   \n",
       "1  1.78   1.8  1.81  1.81  ...  2.11  2.13  2.13  2.14  2.18  2.21  2.25   \n",
       "2  1.94  2.03   1.9  1.84  ...  2.33  2.37  2.43  2.52  2.67  2.86  3.16   \n",
       "3   0.5  0.45  0.46  0.47  ...  0.63  0.79  0.95  0.77  0.74  0.75  0.83   \n",
       "4  1.11   1.1   1.1  1.14  ...  1.88  1.96  1.92  1.67  1.77  1.90  1.93   \n",
       "\n",
       "   2020  2021  2022  \n",
       "0  2.30  2.27  2.24  \n",
       "1  2.33  2.30  2.27  \n",
       "2  3.40  3.43  3.43  \n",
       "3  0.85  0.77  0.77  \n",
       "4  1.99  2.00  1.96  \n",
       "\n",
       "[5 rows x 29 columns]"
      ]
     },
     "execution_count": 34,
     "metadata": {},
     "output_type": "execute_result"
    }
   ],
   "source": [
    "DF.head()"
   ]
  },
  {
   "cell_type": "code",
   "execution_count": 35,
   "id": "79ba37fd",
   "metadata": {},
   "outputs": [
    {
     "data": {
      "text/plain": [
       "TIME     object\n",
       "1995     object\n",
       "1996     object\n",
       "1997     object\n",
       "1998     object\n",
       "1999     object\n",
       "2000     object\n",
       "2001     object\n",
       "2002     object\n",
       "2003    float64\n",
       "2004    float64\n",
       "2005    float64\n",
       "2006    float64\n",
       "2007    float64\n",
       "2008    float64\n",
       "2009    float64\n",
       "2010    float64\n",
       "2011    float64\n",
       "2012    float64\n",
       "2013    float64\n",
       "2014    float64\n",
       "2015    float64\n",
       "2016    float64\n",
       "2017    float64\n",
       "2018    float64\n",
       "2019    float64\n",
       "2020    float64\n",
       "2021    float64\n",
       "2022    float64\n",
       "dtype: object"
      ]
     },
     "execution_count": 35,
     "metadata": {},
     "output_type": "execute_result"
    }
   ],
   "source": [
    "DF.dtypes"
   ]
  },
  {
   "cell_type": "code",
   "execution_count": 36,
   "id": "6f9a99b0",
   "metadata": {},
   "outputs": [
    {
     "data": {
      "text/plain": [
       "TIME    0\n",
       "1995    0\n",
       "1996    0\n",
       "1997    0\n",
       "1998    0\n",
       "1999    0\n",
       "2000    0\n",
       "2001    0\n",
       "2002    0\n",
       "2003    0\n",
       "2004    0\n",
       "2005    0\n",
       "2006    0\n",
       "2007    0\n",
       "2008    0\n",
       "2009    0\n",
       "2010    0\n",
       "2011    0\n",
       "2012    0\n",
       "2013    0\n",
       "2014    0\n",
       "2015    0\n",
       "2016    0\n",
       "2017    0\n",
       "2018    0\n",
       "2019    0\n",
       "2020    0\n",
       "2021    0\n",
       "2022    0\n",
       "dtype: int64"
      ]
     },
     "execution_count": 36,
     "metadata": {},
     "output_type": "execute_result"
    }
   ],
   "source": [
    "DF.isna().sum()"
   ]
  },
  {
   "cell_type": "code",
   "execution_count": 37,
   "id": "f4bcda1b",
   "metadata": {},
   "outputs": [],
   "source": [
    "# there are missing values in in the form of ':' in dataset till 2003 so we delete this part. \n",
    "\n",
    "DF=DF.drop(columns=['1995', '1996', '1997', '1998', '1999', '2000', '2001', '2002'])"
   ]
  },
  {
   "cell_type": "code",
   "execution_count": 38,
   "id": "3a7cf9d9",
   "metadata": {},
   "outputs": [
    {
     "data": {
      "text/plain": [
       "Index(['TIME', '2003', '2004', '2005', '2006', '2007', '2008', '2009', '2010',\n",
       "       '2011', '2012', '2013', '2014', '2015', '2016', '2017', '2018', '2019',\n",
       "       '2020', '2021', '2022'],\n",
       "      dtype='object')"
      ]
     },
     "execution_count": 38,
     "metadata": {},
     "output_type": "execute_result"
    }
   ],
   "source": [
    "DF.columns\n"
   ]
  },
  {
   "cell_type": "code",
   "execution_count": 39,
   "id": "30d38c41",
   "metadata": {},
   "outputs": [],
   "source": [
    "# Two first rows are EU aggregation wich we do not need so we drop the two first rows from the dataframe\n",
    "DF=DF.drop([0,1])"
   ]
  },
  {
   "cell_type": "code",
   "execution_count": 40,
   "id": "28e022c3",
   "metadata": {},
   "outputs": [
    {
     "data": {
      "text/html": [
       "<div>\n",
       "<style scoped>\n",
       "    .dataframe tbody tr th:only-of-type {\n",
       "        vertical-align: middle;\n",
       "    }\n",
       "\n",
       "    .dataframe tbody tr th {\n",
       "        vertical-align: top;\n",
       "    }\n",
       "\n",
       "    .dataframe thead th {\n",
       "        text-align: right;\n",
       "    }\n",
       "</style>\n",
       "<table border=\"1\" class=\"dataframe\">\n",
       "  <thead>\n",
       "    <tr style=\"text-align: right;\">\n",
       "      <th></th>\n",
       "      <th>2003</th>\n",
       "      <th>2004</th>\n",
       "      <th>2005</th>\n",
       "      <th>2006</th>\n",
       "      <th>2007</th>\n",
       "      <th>2008</th>\n",
       "      <th>2009</th>\n",
       "      <th>2010</th>\n",
       "      <th>2011</th>\n",
       "      <th>2012</th>\n",
       "      <th>2013</th>\n",
       "      <th>2014</th>\n",
       "      <th>2015</th>\n",
       "      <th>2016</th>\n",
       "      <th>2017</th>\n",
       "      <th>2018</th>\n",
       "      <th>2019</th>\n",
       "      <th>2020</th>\n",
       "      <th>2021</th>\n",
       "      <th>2022</th>\n",
       "    </tr>\n",
       "  </thead>\n",
       "  <tbody>\n",
       "    <tr>\n",
       "      <th>count</th>\n",
       "      <td>27.000000</td>\n",
       "      <td>27.000000</td>\n",
       "      <td>27.000000</td>\n",
       "      <td>27.000000</td>\n",
       "      <td>27.000000</td>\n",
       "      <td>27.000000</td>\n",
       "      <td>27.000000</td>\n",
       "      <td>27.000000</td>\n",
       "      <td>27.000000</td>\n",
       "      <td>27.000000</td>\n",
       "      <td>27.000000</td>\n",
       "      <td>27.000000</td>\n",
       "      <td>27.000000</td>\n",
       "      <td>27.000000</td>\n",
       "      <td>27.000000</td>\n",
       "      <td>27.000000</td>\n",
       "      <td>27.000000</td>\n",
       "      <td>27.000000</td>\n",
       "      <td>27.000000</td>\n",
       "      <td>27.000000</td>\n",
       "    </tr>\n",
       "    <tr>\n",
       "      <th>mean</th>\n",
       "      <td>1.274074</td>\n",
       "      <td>1.283333</td>\n",
       "      <td>1.298889</td>\n",
       "      <td>1.339630</td>\n",
       "      <td>1.338889</td>\n",
       "      <td>1.423333</td>\n",
       "      <td>1.487407</td>\n",
       "      <td>1.500741</td>\n",
       "      <td>1.571481</td>\n",
       "      <td>1.600741</td>\n",
       "      <td>1.605926</td>\n",
       "      <td>1.597407</td>\n",
       "      <td>1.605556</td>\n",
       "      <td>1.542222</td>\n",
       "      <td>1.573333</td>\n",
       "      <td>1.619630</td>\n",
       "      <td>1.672963</td>\n",
       "      <td>1.764815</td>\n",
       "      <td>1.750000</td>\n",
       "      <td>1.738519</td>\n",
       "    </tr>\n",
       "    <tr>\n",
       "      <th>std</th>\n",
       "      <td>0.914685</td>\n",
       "      <td>0.872283</td>\n",
       "      <td>0.868050</td>\n",
       "      <td>0.869387</td>\n",
       "      <td>0.851615</td>\n",
       "      <td>0.909704</td>\n",
       "      <td>0.954993</td>\n",
       "      <td>0.923126</td>\n",
       "      <td>0.929324</td>\n",
       "      <td>0.924733</td>\n",
       "      <td>0.913721</td>\n",
       "      <td>0.883527</td>\n",
       "      <td>0.861280</td>\n",
       "      <td>0.896353</td>\n",
       "      <td>0.886796</td>\n",
       "      <td>0.886894</td>\n",
       "      <td>0.902402</td>\n",
       "      <td>0.908762</td>\n",
       "      <td>0.907346</td>\n",
       "      <td>0.912839</td>\n",
       "    </tr>\n",
       "    <tr>\n",
       "      <th>min</th>\n",
       "      <td>0.240000</td>\n",
       "      <td>0.340000</td>\n",
       "      <td>0.370000</td>\n",
       "      <td>0.380000</td>\n",
       "      <td>0.400000</td>\n",
       "      <td>0.390000</td>\n",
       "      <td>0.440000</td>\n",
       "      <td>0.440000</td>\n",
       "      <td>0.450000</td>\n",
       "      <td>0.440000</td>\n",
       "      <td>0.390000</td>\n",
       "      <td>0.380000</td>\n",
       "      <td>0.480000</td>\n",
       "      <td>0.440000</td>\n",
       "      <td>0.510000</td>\n",
       "      <td>0.500000</td>\n",
       "      <td>0.480000</td>\n",
       "      <td>0.470000</td>\n",
       "      <td>0.470000</td>\n",
       "      <td>0.460000</td>\n",
       "    </tr>\n",
       "    <tr>\n",
       "      <th>25%</th>\n",
       "      <td>0.555000</td>\n",
       "      <td>0.540000</td>\n",
       "      <td>0.570000</td>\n",
       "      <td>0.615000</td>\n",
       "      <td>0.570000</td>\n",
       "      <td>0.630000</td>\n",
       "      <td>0.645000</td>\n",
       "      <td>0.670000</td>\n",
       "      <td>0.730000</td>\n",
       "      <td>0.795000</td>\n",
       "      <td>0.815000</td>\n",
       "      <td>0.860000</td>\n",
       "      <td>0.985000</td>\n",
       "      <td>0.845000</td>\n",
       "      <td>0.890000</td>\n",
       "      <td>0.945000</td>\n",
       "      <td>1.035000</td>\n",
       "      <td>1.115000</td>\n",
       "      <td>1.070000</td>\n",
       "      <td>0.980000</td>\n",
       "    </tr>\n",
       "    <tr>\n",
       "      <th>50%</th>\n",
       "      <td>1.020000</td>\n",
       "      <td>1.040000</td>\n",
       "      <td>1.040000</td>\n",
       "      <td>1.110000</td>\n",
       "      <td>1.130000</td>\n",
       "      <td>1.250000</td>\n",
       "      <td>1.360000</td>\n",
       "      <td>1.360000</td>\n",
       "      <td>1.420000</td>\n",
       "      <td>1.300000</td>\n",
       "      <td>1.320000</td>\n",
       "      <td>1.340000</td>\n",
       "      <td>1.250000</td>\n",
       "      <td>1.240000</td>\n",
       "      <td>1.280000</td>\n",
       "      <td>1.350000</td>\n",
       "      <td>1.400000</td>\n",
       "      <td>1.510000</td>\n",
       "      <td>1.460000</td>\n",
       "      <td>1.460000</td>\n",
       "    </tr>\n",
       "    <tr>\n",
       "      <th>75%</th>\n",
       "      <td>1.810000</td>\n",
       "      <td>1.805000</td>\n",
       "      <td>1.780000</td>\n",
       "      <td>1.780000</td>\n",
       "      <td>1.760000</td>\n",
       "      <td>1.785000</td>\n",
       "      <td>1.905000</td>\n",
       "      <td>2.055000</td>\n",
       "      <td>2.250000</td>\n",
       "      <td>2.255000</td>\n",
       "      <td>2.285000</td>\n",
       "      <td>2.300000</td>\n",
       "      <td>2.215000</td>\n",
       "      <td>2.185000</td>\n",
       "      <td>2.190000</td>\n",
       "      <td>2.170000</td>\n",
       "      <td>2.185000</td>\n",
       "      <td>2.295000</td>\n",
       "      <td>2.245000</td>\n",
       "      <td>2.240000</td>\n",
       "    </tr>\n",
       "    <tr>\n",
       "      <th>max</th>\n",
       "      <td>3.580000</td>\n",
       "      <td>3.360000</td>\n",
       "      <td>3.360000</td>\n",
       "      <td>3.470000</td>\n",
       "      <td>3.340000</td>\n",
       "      <td>3.540000</td>\n",
       "      <td>3.730000</td>\n",
       "      <td>3.710000</td>\n",
       "      <td>3.620000</td>\n",
       "      <td>3.400000</td>\n",
       "      <td>3.270000</td>\n",
       "      <td>3.150000</td>\n",
       "      <td>3.220000</td>\n",
       "      <td>3.250000</td>\n",
       "      <td>3.360000</td>\n",
       "      <td>3.320000</td>\n",
       "      <td>3.390000</td>\n",
       "      <td>3.490000</td>\n",
       "      <td>3.430000</td>\n",
       "      <td>3.430000</td>\n",
       "    </tr>\n",
       "  </tbody>\n",
       "</table>\n",
       "</div>"
      ],
      "text/plain": [
       "            2003       2004       2005       2006       2007       2008  \\\n",
       "count  27.000000  27.000000  27.000000  27.000000  27.000000  27.000000   \n",
       "mean    1.274074   1.283333   1.298889   1.339630   1.338889   1.423333   \n",
       "std     0.914685   0.872283   0.868050   0.869387   0.851615   0.909704   \n",
       "min     0.240000   0.340000   0.370000   0.380000   0.400000   0.390000   \n",
       "25%     0.555000   0.540000   0.570000   0.615000   0.570000   0.630000   \n",
       "50%     1.020000   1.040000   1.040000   1.110000   1.130000   1.250000   \n",
       "75%     1.810000   1.805000   1.780000   1.780000   1.760000   1.785000   \n",
       "max     3.580000   3.360000   3.360000   3.470000   3.340000   3.540000   \n",
       "\n",
       "            2009       2010       2011       2012       2013       2014  \\\n",
       "count  27.000000  27.000000  27.000000  27.000000  27.000000  27.000000   \n",
       "mean    1.487407   1.500741   1.571481   1.600741   1.605926   1.597407   \n",
       "std     0.954993   0.923126   0.929324   0.924733   0.913721   0.883527   \n",
       "min     0.440000   0.440000   0.450000   0.440000   0.390000   0.380000   \n",
       "25%     0.645000   0.670000   0.730000   0.795000   0.815000   0.860000   \n",
       "50%     1.360000   1.360000   1.420000   1.300000   1.320000   1.340000   \n",
       "75%     1.905000   2.055000   2.250000   2.255000   2.285000   2.300000   \n",
       "max     3.730000   3.710000   3.620000   3.400000   3.270000   3.150000   \n",
       "\n",
       "            2015       2016       2017       2018       2019       2020  \\\n",
       "count  27.000000  27.000000  27.000000  27.000000  27.000000  27.000000   \n",
       "mean    1.605556   1.542222   1.573333   1.619630   1.672963   1.764815   \n",
       "std     0.861280   0.896353   0.886796   0.886894   0.902402   0.908762   \n",
       "min     0.480000   0.440000   0.510000   0.500000   0.480000   0.470000   \n",
       "25%     0.985000   0.845000   0.890000   0.945000   1.035000   1.115000   \n",
       "50%     1.250000   1.240000   1.280000   1.350000   1.400000   1.510000   \n",
       "75%     2.215000   2.185000   2.190000   2.170000   2.185000   2.295000   \n",
       "max     3.220000   3.250000   3.360000   3.320000   3.390000   3.490000   \n",
       "\n",
       "            2021       2022  \n",
       "count  27.000000  27.000000  \n",
       "mean    1.750000   1.738519  \n",
       "std     0.907346   0.912839  \n",
       "min     0.470000   0.460000  \n",
       "25%     1.070000   0.980000  \n",
       "50%     1.460000   1.460000  \n",
       "75%     2.245000   2.240000  \n",
       "max     3.430000   3.430000  "
      ]
     },
     "execution_count": 40,
     "metadata": {},
     "output_type": "execute_result"
    }
   ],
   "source": [
    "# To have a brieve summary of statistical charectarestics we use the 'describe' function. \n",
    "\n",
    "DF.describe()"
   ]
  },
  {
   "cell_type": "code",
   "execution_count": 41,
   "id": "c2437078",
   "metadata": {},
   "outputs": [
    {
     "data": {
      "text/html": [
       "<div>\n",
       "<style scoped>\n",
       "    .dataframe tbody tr th:only-of-type {\n",
       "        vertical-align: middle;\n",
       "    }\n",
       "\n",
       "    .dataframe tbody tr th {\n",
       "        vertical-align: top;\n",
       "    }\n",
       "\n",
       "    .dataframe thead th {\n",
       "        text-align: right;\n",
       "    }\n",
       "</style>\n",
       "<table border=\"1\" class=\"dataframe\">\n",
       "  <thead>\n",
       "    <tr style=\"text-align: right;\">\n",
       "      <th></th>\n",
       "      <th>TIME</th>\n",
       "      <th>2003</th>\n",
       "      <th>2004</th>\n",
       "      <th>2005</th>\n",
       "      <th>2006</th>\n",
       "      <th>2007</th>\n",
       "      <th>2008</th>\n",
       "      <th>2009</th>\n",
       "      <th>2010</th>\n",
       "      <th>2011</th>\n",
       "      <th>...</th>\n",
       "      <th>2013</th>\n",
       "      <th>2014</th>\n",
       "      <th>2015</th>\n",
       "      <th>2016</th>\n",
       "      <th>2017</th>\n",
       "      <th>2018</th>\n",
       "      <th>2019</th>\n",
       "      <th>2020</th>\n",
       "      <th>2021</th>\n",
       "      <th>2022</th>\n",
       "    </tr>\n",
       "  </thead>\n",
       "  <tbody>\n",
       "    <tr>\n",
       "      <th>2</th>\n",
       "      <td>Belgium</td>\n",
       "      <td>1.84</td>\n",
       "      <td>1.82</td>\n",
       "      <td>1.79</td>\n",
       "      <td>1.82</td>\n",
       "      <td>1.85</td>\n",
       "      <td>1.94</td>\n",
       "      <td>2.00</td>\n",
       "      <td>2.06</td>\n",
       "      <td>2.17</td>\n",
       "      <td>...</td>\n",
       "      <td>2.33</td>\n",
       "      <td>2.37</td>\n",
       "      <td>2.43</td>\n",
       "      <td>2.52</td>\n",
       "      <td>2.67</td>\n",
       "      <td>2.86</td>\n",
       "      <td>3.16</td>\n",
       "      <td>3.40</td>\n",
       "      <td>3.43</td>\n",
       "      <td>3.43</td>\n",
       "    </tr>\n",
       "    <tr>\n",
       "      <th>3</th>\n",
       "      <td>Bulgaria</td>\n",
       "      <td>0.47</td>\n",
       "      <td>0.47</td>\n",
       "      <td>0.44</td>\n",
       "      <td>0.44</td>\n",
       "      <td>0.43</td>\n",
       "      <td>0.45</td>\n",
       "      <td>0.49</td>\n",
       "      <td>0.56</td>\n",
       "      <td>0.53</td>\n",
       "      <td>...</td>\n",
       "      <td>0.63</td>\n",
       "      <td>0.79</td>\n",
       "      <td>0.95</td>\n",
       "      <td>0.77</td>\n",
       "      <td>0.74</td>\n",
       "      <td>0.75</td>\n",
       "      <td>0.83</td>\n",
       "      <td>0.85</td>\n",
       "      <td>0.77</td>\n",
       "      <td>0.77</td>\n",
       "    </tr>\n",
       "    <tr>\n",
       "      <th>4</th>\n",
       "      <td>Czechia</td>\n",
       "      <td>1.14</td>\n",
       "      <td>1.14</td>\n",
       "      <td>1.16</td>\n",
       "      <td>1.23</td>\n",
       "      <td>1.30</td>\n",
       "      <td>1.23</td>\n",
       "      <td>1.29</td>\n",
       "      <td>1.33</td>\n",
       "      <td>1.54</td>\n",
       "      <td>...</td>\n",
       "      <td>1.88</td>\n",
       "      <td>1.96</td>\n",
       "      <td>1.92</td>\n",
       "      <td>1.67</td>\n",
       "      <td>1.77</td>\n",
       "      <td>1.90</td>\n",
       "      <td>1.93</td>\n",
       "      <td>1.99</td>\n",
       "      <td>2.00</td>\n",
       "      <td>1.96</td>\n",
       "    </tr>\n",
       "    <tr>\n",
       "      <th>5</th>\n",
       "      <td>Denmark</td>\n",
       "      <td>2.51</td>\n",
       "      <td>2.42</td>\n",
       "      <td>2.39</td>\n",
       "      <td>2.40</td>\n",
       "      <td>2.52</td>\n",
       "      <td>2.77</td>\n",
       "      <td>3.06</td>\n",
       "      <td>2.92</td>\n",
       "      <td>2.94</td>\n",
       "      <td>...</td>\n",
       "      <td>2.97</td>\n",
       "      <td>2.91</td>\n",
       "      <td>3.05</td>\n",
       "      <td>3.09</td>\n",
       "      <td>2.93</td>\n",
       "      <td>2.97</td>\n",
       "      <td>2.94</td>\n",
       "      <td>2.97</td>\n",
       "      <td>2.76</td>\n",
       "      <td>2.89</td>\n",
       "    </tr>\n",
       "    <tr>\n",
       "      <th>6</th>\n",
       "      <td>Germany</td>\n",
       "      <td>2.47</td>\n",
       "      <td>2.44</td>\n",
       "      <td>2.44</td>\n",
       "      <td>2.47</td>\n",
       "      <td>2.46</td>\n",
       "      <td>2.62</td>\n",
       "      <td>2.74</td>\n",
       "      <td>2.73</td>\n",
       "      <td>2.81</td>\n",
       "      <td>...</td>\n",
       "      <td>2.84</td>\n",
       "      <td>2.88</td>\n",
       "      <td>2.93</td>\n",
       "      <td>2.94</td>\n",
       "      <td>3.05</td>\n",
       "      <td>3.11</td>\n",
       "      <td>3.17</td>\n",
       "      <td>3.13</td>\n",
       "      <td>3.13</td>\n",
       "      <td>3.13</td>\n",
       "    </tr>\n",
       "  </tbody>\n",
       "</table>\n",
       "<p>5 rows × 21 columns</p>\n",
       "</div>"
      ],
      "text/plain": [
       "       TIME  2003  2004  2005  2006  2007  2008  2009  2010  2011  ...  2013  \\\n",
       "2   Belgium  1.84  1.82  1.79  1.82  1.85  1.94  2.00  2.06  2.17  ...  2.33   \n",
       "3  Bulgaria  0.47  0.47  0.44  0.44  0.43  0.45  0.49  0.56  0.53  ...  0.63   \n",
       "4   Czechia  1.14  1.14  1.16  1.23  1.30  1.23  1.29  1.33  1.54  ...  1.88   \n",
       "5   Denmark  2.51  2.42  2.39  2.40  2.52  2.77  3.06  2.92  2.94  ...  2.97   \n",
       "6   Germany  2.47  2.44  2.44  2.47  2.46  2.62  2.74  2.73  2.81  ...  2.84   \n",
       "\n",
       "   2014  2015  2016  2017  2018  2019  2020  2021  2022  \n",
       "2  2.37  2.43  2.52  2.67  2.86  3.16  3.40  3.43  3.43  \n",
       "3  0.79  0.95  0.77  0.74  0.75  0.83  0.85  0.77  0.77  \n",
       "4  1.96  1.92  1.67  1.77  1.90  1.93  1.99  2.00  1.96  \n",
       "5  2.91  3.05  3.09  2.93  2.97  2.94  2.97  2.76  2.89  \n",
       "6  2.88  2.93  2.94  3.05  3.11  3.17  3.13  3.13  3.13  \n",
       "\n",
       "[5 rows x 21 columns]"
      ]
     },
     "execution_count": 41,
     "metadata": {},
     "output_type": "execute_result"
    }
   ],
   "source": [
    "DF.head()"
   ]
  },
  {
   "cell_type": "code",
   "execution_count": 42,
   "id": "ce70daa7",
   "metadata": {},
   "outputs": [],
   "source": [
    "# Chaning name 'TIME' to the 'country'\n",
    "\n",
    "DF=DF.rename(columns={'TIME':'country'})"
   ]
  },
  {
   "cell_type": "code",
   "execution_count": 43,
   "id": "dfee1907",
   "metadata": {},
   "outputs": [],
   "source": [
    "# Changing the shape of the DataFrame by using melt methode.  \n",
    "\n",
    "NDF=pd.melt(DF, id_vars='country', value_vars=DF.columns[1:], var_name='year', value_name='RnDvalue')"
   ]
  },
  {
   "cell_type": "code",
   "execution_count": 51,
   "id": "2eb89189",
   "metadata": {},
   "outputs": [
    {
     "data": {
      "text/html": [
       "<div>\n",
       "<style scoped>\n",
       "    .dataframe tbody tr th:only-of-type {\n",
       "        vertical-align: middle;\n",
       "    }\n",
       "\n",
       "    .dataframe tbody tr th {\n",
       "        vertical-align: top;\n",
       "    }\n",
       "\n",
       "    .dataframe thead th {\n",
       "        text-align: right;\n",
       "    }\n",
       "</style>\n",
       "<table border=\"1\" class=\"dataframe\">\n",
       "  <thead>\n",
       "    <tr style=\"text-align: right;\">\n",
       "      <th></th>\n",
       "      <th>country</th>\n",
       "      <th>year</th>\n",
       "      <th>RnDvalue</th>\n",
       "    </tr>\n",
       "  </thead>\n",
       "  <tbody>\n",
       "    <tr>\n",
       "      <th>0</th>\n",
       "      <td>Belgium</td>\n",
       "      <td>2003</td>\n",
       "      <td>1.84</td>\n",
       "    </tr>\n",
       "    <tr>\n",
       "      <th>1</th>\n",
       "      <td>Bulgaria</td>\n",
       "      <td>2003</td>\n",
       "      <td>0.47</td>\n",
       "    </tr>\n",
       "    <tr>\n",
       "      <th>2</th>\n",
       "      <td>Czechia</td>\n",
       "      <td>2003</td>\n",
       "      <td>1.14</td>\n",
       "    </tr>\n",
       "    <tr>\n",
       "      <th>3</th>\n",
       "      <td>Denmark</td>\n",
       "      <td>2003</td>\n",
       "      <td>2.51</td>\n",
       "    </tr>\n",
       "    <tr>\n",
       "      <th>4</th>\n",
       "      <td>Germany</td>\n",
       "      <td>2003</td>\n",
       "      <td>2.47</td>\n",
       "    </tr>\n",
       "  </tbody>\n",
       "</table>\n",
       "</div>"
      ],
      "text/plain": [
       "    country  year  RnDvalue\n",
       "0   Belgium  2003      1.84\n",
       "1  Bulgaria  2003      0.47\n",
       "2   Czechia  2003      1.14\n",
       "3   Denmark  2003      2.51\n",
       "4   Germany  2003      2.47"
      ]
     },
     "execution_count": 51,
     "metadata": {},
     "output_type": "execute_result"
    }
   ],
   "source": [
    "NDF.head()"
   ]
  },
  {
   "cell_type": "code",
   "execution_count": 45,
   "id": "cb6cbd04",
   "metadata": {},
   "outputs": [
    {
     "data": {
      "text/plain": [
       "country      object\n",
       "year         object\n",
       "RnDvalue    float64\n",
       "dtype: object"
      ]
     },
     "execution_count": 45,
     "metadata": {},
     "output_type": "execute_result"
    }
   ],
   "source": [
    "NDF.dtypes"
   ]
  },
  {
   "cell_type": "code",
   "execution_count": 46,
   "id": "17bf2527",
   "metadata": {},
   "outputs": [],
   "source": [
    "# As the 'year' column is not in intiger form we change to intiger.\n",
    "\n",
    "NDF['year']=NDF['year'].astype(int)"
   ]
  },
  {
   "cell_type": "code",
   "execution_count": 47,
   "id": "0e992ea7",
   "metadata": {},
   "outputs": [],
   "source": [
    "# We merge the two datasets(research and development (R&D) and GDP growth), in order to facilitate analysis.\n",
    "\n",
    "merged_DF=pd.merge(NDF, Df, on=['country', 'year'])"
   ]
  },
  {
   "cell_type": "code",
   "execution_count": 48,
   "id": "997dbd5c",
   "metadata": {},
   "outputs": [
    {
     "data": {
      "text/html": [
       "<div>\n",
       "<style scoped>\n",
       "    .dataframe tbody tr th:only-of-type {\n",
       "        vertical-align: middle;\n",
       "    }\n",
       "\n",
       "    .dataframe tbody tr th {\n",
       "        vertical-align: top;\n",
       "    }\n",
       "\n",
       "    .dataframe thead th {\n",
       "        text-align: right;\n",
       "    }\n",
       "</style>\n",
       "<table border=\"1\" class=\"dataframe\">\n",
       "  <thead>\n",
       "    <tr style=\"text-align: right;\">\n",
       "      <th></th>\n",
       "      <th>country</th>\n",
       "      <th>year</th>\n",
       "      <th>RnDvalue</th>\n",
       "      <th>gdpValue</th>\n",
       "    </tr>\n",
       "  </thead>\n",
       "  <tbody>\n",
       "    <tr>\n",
       "      <th>0</th>\n",
       "      <td>Belgium</td>\n",
       "      <td>2003</td>\n",
       "      <td>1.84</td>\n",
       "      <td>3.190028e+11</td>\n",
       "    </tr>\n",
       "    <tr>\n",
       "      <th>1</th>\n",
       "      <td>Bulgaria</td>\n",
       "      <td>2003</td>\n",
       "      <td>0.47</td>\n",
       "      <td>2.107478e+10</td>\n",
       "    </tr>\n",
       "    <tr>\n",
       "      <th>2</th>\n",
       "      <td>Denmark</td>\n",
       "      <td>2003</td>\n",
       "      <td>2.51</td>\n",
       "      <td>2.180960e+11</td>\n",
       "    </tr>\n",
       "    <tr>\n",
       "      <th>3</th>\n",
       "      <td>Germany</td>\n",
       "      <td>2003</td>\n",
       "      <td>2.47</td>\n",
       "      <td>2.505734e+12</td>\n",
       "    </tr>\n",
       "    <tr>\n",
       "      <th>4</th>\n",
       "      <td>Estonia</td>\n",
       "      <td>2003</td>\n",
       "      <td>0.76</td>\n",
       "      <td>9.833871e+09</td>\n",
       "    </tr>\n",
       "  </tbody>\n",
       "</table>\n",
       "</div>"
      ],
      "text/plain": [
       "    country  year  RnDvalue      gdpValue\n",
       "0   Belgium  2003      1.84  3.190028e+11\n",
       "1  Bulgaria  2003      0.47  2.107478e+10\n",
       "2   Denmark  2003      2.51  2.180960e+11\n",
       "3   Germany  2003      2.47  2.505734e+12\n",
       "4   Estonia  2003      0.76  9.833871e+09"
      ]
     },
     "execution_count": 48,
     "metadata": {},
     "output_type": "execute_result"
    }
   ],
   "source": [
    "merged_DF.head()"
   ]
  },
  {
   "cell_type": "code",
   "execution_count": 49,
   "id": "4c722c0f",
   "metadata": {},
   "outputs": [
    {
     "data": {
      "text/html": [
       "<div>\n",
       "<style scoped>\n",
       "    .dataframe tbody tr th:only-of-type {\n",
       "        vertical-align: middle;\n",
       "    }\n",
       "\n",
       "    .dataframe tbody tr th {\n",
       "        vertical-align: top;\n",
       "    }\n",
       "\n",
       "    .dataframe thead th {\n",
       "        text-align: right;\n",
       "    }\n",
       "</style>\n",
       "<table border=\"1\" class=\"dataframe\">\n",
       "  <thead>\n",
       "    <tr style=\"text-align: right;\">\n",
       "      <th></th>\n",
       "      <th>RnDvalue</th>\n",
       "      <th>gdpValue</th>\n",
       "    </tr>\n",
       "  </thead>\n",
       "  <tbody>\n",
       "    <tr>\n",
       "      <th>RnDvalue</th>\n",
       "      <td>1.00000</td>\n",
       "      <td>0.33915</td>\n",
       "    </tr>\n",
       "    <tr>\n",
       "      <th>gdpValue</th>\n",
       "      <td>0.33915</td>\n",
       "      <td>1.00000</td>\n",
       "    </tr>\n",
       "  </tbody>\n",
       "</table>\n",
       "</div>"
      ],
      "text/plain": [
       "          RnDvalue  gdpValue\n",
       "RnDvalue   1.00000   0.33915\n",
       "gdpValue   0.33915   1.00000"
      ]
     },
     "execution_count": 49,
     "metadata": {},
     "output_type": "execute_result"
    }
   ],
   "source": [
    "# we calculate the correation coeffiecent of research and development (R&D) and GDP growth.\n",
    "\n",
    "merged_DF[['RnDvalue', 'gdpValue']].corr()"
   ]
  },
  {
   "cell_type": "code",
   "execution_count": 50,
   "id": "c52e20a1",
   "metadata": {},
   "outputs": [
    {
     "data": {
      "text/plain": [
       "<AxesSubplot:xlabel='RnDvalue', ylabel='gdpValue'>"
      ]
     },
     "execution_count": 50,
     "metadata": {},
     "output_type": "execute_result"
    },
    {
     "data": {
      "image/png": "[encoded data removed]",
      "text/plain": [
       "<Figure size 640x480 with 1 Axes>"
      ]
     },
     "metadata": {},
     "output_type": "display_data"
    }
   ],
   "source": [
    "# We plot to see the visually the relationship of research and development (R&D) and GDP growth\n",
    "\n",
    "merged_DF.plot(kind='scatter', x= 'RnDvalue', y='gdpValue')"
   ]
  },
  {
   "cell_type": "code",
   "execution_count": 66,
   "id": "4d3f3c68",
   "metadata": {},
   "outputs": [
    {
     "name": "stdout",
     "output_type": "stream",
     "text": [
      "Intercentp: [6.86893605e+10] Coefficeint: [[3.19346466e+11]]\n",
      "R-Squre: 0.11502254634301812\n"
     ]
    }
   ],
   "source": [
    "#Running regression while y='gdpValue' and X='RnDvalue' to see the relationship between tow variables.\n",
    "# And Finding R squared.\n",
    "\n",
    "model=LinearRegression()\n",
    "model.fit(merged_DF[['RnDvalue']], merged_DF[['gdpValue']] )\n",
    "intercept=model.intercept_\n",
    "coeffecient=model.coef_\n",
    "print('Intercentp:' , intercept, 'Coefficeint:', coeffecient)\n",
    "yPred=model.predict(merged_DF[['RnDvalue']])\n",
    "r2Score=r2_score( merged_DF[['gdpValue']]\n",
    ", yPred)\n",
    "print('R-Squre:',r2Score)"
   ]
  },
  {
   "cell_type": "markdown",
   "id": "dd164cc6",
   "metadata": {},
   "source": [
    "In the above when running regression we find out that R-Square is low and it shows that the relationship between two variables are weak. \n",
    "\n",
    "Till now we have been using the expenditure on research and development (R&D) as a percentage of GDP, it would be interesting to calculate the exact amount spend on R&D and its relationship with the GDP. For doing that we already have all the information and we can calculate it easily be multiplying the two variable and dividing be 100.  "
   ]
  },
  {
   "cell_type": "code",
   "execution_count": 54,
   "id": "e8bce6cd",
   "metadata": {},
   "outputs": [],
   "source": [
    "\n",
    "\n",
    "merged_DF['RnD_amount']=merged_DF['RnDvalue']*merged_DF['gdpValue']/100"
   ]
  },
  {
   "cell_type": "code",
   "execution_count": 55,
   "id": "e9cf4f66",
   "metadata": {},
   "outputs": [
    {
     "data": {
      "text/html": [
       "<div>\n",
       "<style scoped>\n",
       "    .dataframe tbody tr th:only-of-type {\n",
       "        vertical-align: middle;\n",
       "    }\n",
       "\n",
       "    .dataframe tbody tr th {\n",
       "        vertical-align: top;\n",
       "    }\n",
       "\n",
       "    .dataframe thead th {\n",
       "        text-align: right;\n",
       "    }\n",
       "</style>\n",
       "<table border=\"1\" class=\"dataframe\">\n",
       "  <thead>\n",
       "    <tr style=\"text-align: right;\">\n",
       "      <th></th>\n",
       "      <th>country</th>\n",
       "      <th>year</th>\n",
       "      <th>RnDvalue</th>\n",
       "      <th>gdpValue</th>\n",
       "      <th>RnD_amount</th>\n",
       "    </tr>\n",
       "  </thead>\n",
       "  <tbody>\n",
       "    <tr>\n",
       "      <th>0</th>\n",
       "      <td>Belgium</td>\n",
       "      <td>2003</td>\n",
       "      <td>1.84</td>\n",
       "      <td>3.190028e+11</td>\n",
       "      <td>5.869652e+09</td>\n",
       "    </tr>\n",
       "    <tr>\n",
       "      <th>1</th>\n",
       "      <td>Bulgaria</td>\n",
       "      <td>2003</td>\n",
       "      <td>0.47</td>\n",
       "      <td>2.107478e+10</td>\n",
       "      <td>9.905144e+07</td>\n",
       "    </tr>\n",
       "    <tr>\n",
       "      <th>2</th>\n",
       "      <td>Denmark</td>\n",
       "      <td>2003</td>\n",
       "      <td>2.51</td>\n",
       "      <td>2.180960e+11</td>\n",
       "      <td>5.474210e+09</td>\n",
       "    </tr>\n",
       "    <tr>\n",
       "      <th>3</th>\n",
       "      <td>Germany</td>\n",
       "      <td>2003</td>\n",
       "      <td>2.47</td>\n",
       "      <td>2.505734e+12</td>\n",
       "      <td>6.189162e+10</td>\n",
       "    </tr>\n",
       "    <tr>\n",
       "      <th>4</th>\n",
       "      <td>Estonia</td>\n",
       "      <td>2003</td>\n",
       "      <td>0.76</td>\n",
       "      <td>9.833871e+09</td>\n",
       "      <td>7.473742e+07</td>\n",
       "    </tr>\n",
       "  </tbody>\n",
       "</table>\n",
       "</div>"
      ],
      "text/plain": [
       "    country  year  RnDvalue      gdpValue    RnD_amount\n",
       "0   Belgium  2003      1.84  3.190028e+11  5.869652e+09\n",
       "1  Bulgaria  2003      0.47  2.107478e+10  9.905144e+07\n",
       "2   Denmark  2003      2.51  2.180960e+11  5.474210e+09\n",
       "3   Germany  2003      2.47  2.505734e+12  6.189162e+10\n",
       "4   Estonia  2003      0.76  9.833871e+09  7.473742e+07"
      ]
     },
     "execution_count": 55,
     "metadata": {},
     "output_type": "execute_result"
    }
   ],
   "source": [
    "merged_DF.head()"
   ]
  },
  {
   "cell_type": "code",
   "execution_count": 56,
   "id": "bd49ef98",
   "metadata": {},
   "outputs": [
    {
     "data": {
      "text/html": [
       "<div>\n",
       "<style scoped>\n",
       "    .dataframe tbody tr th:only-of-type {\n",
       "        vertical-align: middle;\n",
       "    }\n",
       "\n",
       "    .dataframe tbody tr th {\n",
       "        vertical-align: top;\n",
       "    }\n",
       "\n",
       "    .dataframe thead th {\n",
       "        text-align: right;\n",
       "    }\n",
       "</style>\n",
       "<table border=\"1\" class=\"dataframe\">\n",
       "  <thead>\n",
       "    <tr style=\"text-align: right;\">\n",
       "      <th></th>\n",
       "      <th>gdpValue</th>\n",
       "      <th>RnD_amount</th>\n",
       "    </tr>\n",
       "  </thead>\n",
       "  <tbody>\n",
       "    <tr>\n",
       "      <th>gdpValue</th>\n",
       "      <td>1.000000</td>\n",
       "      <td>0.949639</td>\n",
       "    </tr>\n",
       "    <tr>\n",
       "      <th>RnD_amount</th>\n",
       "      <td>0.949639</td>\n",
       "      <td>1.000000</td>\n",
       "    </tr>\n",
       "  </tbody>\n",
       "</table>\n",
       "</div>"
      ],
      "text/plain": [
       "            gdpValue  RnD_amount\n",
       "gdpValue    1.000000    0.949639\n",
       "RnD_amount  0.949639    1.000000"
      ]
     },
     "execution_count": 56,
     "metadata": {},
     "output_type": "execute_result"
    }
   ],
   "source": [
    "# To find the correlation coefficeint we use corr methode\n",
    "\n",
    "merged_DF[['gdpValue', 'RnD_amount']].corr()"
   ]
  },
  {
   "cell_type": "code",
   "execution_count": 57,
   "id": "16d2d039",
   "metadata": {
    "scrolled": true
   },
   "outputs": [
    {
     "data": {
      "text/plain": [
       "<AxesSubplot:xlabel='gdpValue', ylabel='RnD_amount'>"
      ]
     },
     "execution_count": 57,
     "metadata": {},
     "output_type": "execute_result"
    },
    {
     "data": {
      "image/png": "[encoded data removed]",
      "text/plain": [
       "<Figure size 640x480 with 1 Axes>"
      ]
     },
     "metadata": {},
     "output_type": "display_data"
    }
   ],
   "source": [
    "# ploting the two variables in a scatter plot to see the pattern visually.\n",
    "\n",
    "merged_DF.plot(kind='scatter', x='gdpValue', y='RnD_amount') "
   ]
  },
  {
   "cell_type": "code",
   "execution_count": 67,
   "id": "3ec3e3bf",
   "metadata": {},
   "outputs": [
    {
     "name": "stdout",
     "output_type": "stream",
     "text": [
      "Intercentp: [1.16175443e+11] Coefficeint: [[39.8255197]]\n",
      "R-Squre: 0.9018142721235525\n"
     ]
    }
   ],
   "source": [
    "# running regression to see if the regression model support the stron relationship between the two varibles.\n",
    "\n",
    "model1=LinearRegression()\n",
    "model1.fit(merged_DF[['RnD_amount']], merged_DF[['gdpValue']] )\n",
    "intercept1=model1.intercept_\n",
    "coeffecient1=model1.coef_\n",
    "print('Intercentp:' , intercept1, 'Coefficeint:', coeffecient1)\n",
    "yPred1=model1.predict(merged_DF[['RnD_amount']])\n",
    "r2Score1=r2_score( merged_DF[['gdpValue']]\n",
    ", yPred1)\n",
    "print('R-Squre:',r2Score1)"
   ]
  },
  {
   "cell_type": "markdown",
   "id": "c4df0c81",
   "metadata": {},
   "source": [
    "The result for exact amount used in R&D is strongly correlate with the GDP which is also indicated in the regression analysis. This finding seems intuitive as economies with bigger GDPs use bigger amount in R&D. "
   ]
  }
 ],
 "metadata": {
  "kernelspec": {
   "display_name": "Python 3 (ipykernel)",
   "language": "python",
   "name": "python3"
  },
  "language_info": {
   "codemirror_mode": {
    "name": "ipython",
    "version": 3
   },
   "file_extension": ".py",
   "mimetype": "text/x-python",
   "name": "python",
   "nbconvert_exporter": "python",
   "pygments_lexer": "ipython3",
   "version": "3.9.13"
  }
 },
 "nbformat": 4,
 "nbformat_minor": 5
}
